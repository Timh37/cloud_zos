{
 "cells": [
  {
   "cell_type": "code",
   "execution_count": 1,
   "id": "9f0ff811-96d3-4c4b-ae9c-5c34ea682794",
   "metadata": {},
   "outputs": [
    {
     "name": "stderr",
     "output_type": "stream",
     "text": [
      "/tmp/ipykernel_2691/3078290416.py:9: TqdmExperimentalWarning: Using `tqdm.autonotebook.tqdm` in notebook mode. Use `tqdm.tqdm` instead to force console mode (e.g. in jupyter console)\n",
      "  from tqdm.autonotebook import tqdm\n"
     ]
    }
   ],
   "source": [
    "import numpy as np\n",
    "import xarray as xr\n",
    "import dask\n",
    "import cftime\n",
    "import os\n",
    "import intake\n",
    "import pandas as pd\n",
    "from collections import defaultdict\n",
    "from tqdm.autonotebook import tqdm\n",
    "from xmip.utils import google_cmip_col\n",
    "from xmip.preprocessing import rename_cmip6, promote_empty_dims, correct_coordinates, broadcast_lonlat, correct_lon, correct_units, fix_metadata,_drop_coords\n",
    "from xmip.postprocessing import combine_datasets,_concat_sorted_time, match_metrics\n",
    "from cmip_catalogue_operations import reduce_cat_to_max_num_realizations, drop_older_versions, reduce_areacello_cat, search_cloud\n",
    "from cmip_ds_dict_operations import generate_dict_of_datasets, drop_duplicate_timesteps, drop_coords, drop_incomplete, drop_vars, dedrift_datasets_linearly, create_regridder_dict, subtract_ocean_awMean, get_availability_from_ddicts\n",
    "import xesmf as xe\n",
    "import gcsfs\n",
    "fs = gcsfs.GCSFileSystem() #list stores, stripp zarr from filename, load "
   ]
  },
  {
   "cell_type": "markdown",
   "id": "c0862814-5679-4a0e-9893-d46cbd0c8076",
   "metadata": {},
   "source": [
    "Various functionalities:"
   ]
  },
  {
   "cell_type": "code",
   "execution_count": 2,
   "id": "b9dea532-a2b2-4284-bbd5-36f3242868bd",
   "metadata": {},
   "outputs": [],
   "source": [
    "def partial_combined_preprocessing(ds): #'combined_preprocessing' from xmip is problematic for some datasets\n",
    "    ds = rename_cmip6(ds) # fix naming\n",
    "    ds = promote_empty_dims(ds) # promote empty dims to actual coordinates\n",
    "    ds = correct_coordinates(ds) # demote coordinates from data_variables\n",
    "    ds = broadcast_lonlat(ds) # broadcast lon/lat\n",
    "    ds = correct_lon(ds) # shift all lons to consistent 0-360\n",
    "    ds = correct_units(ds) # fix the units\n",
    "    ''' part of combined preprocessing\n",
    "    ds = parse_lon_lat_bounds(ds) # rename the `bounds` according to their style (bound or vertex)\n",
    "    ds = sort_vertex_order(ds) # sort verticies in a consistent manner\n",
    "    ds = maybe_convert_bounds_to_vertex(ds) # convert vertex into bounds and vice versa, so both are available\n",
    "    ds = maybe_convert_vertex_to_bounds(ds)\n",
    "    '''\n",
    "    ds = fix_metadata(ds)\n",
    "    ds = ds.drop_vars(_drop_coords, errors=\"ignore\")\n",
    "    return ds\n",
    "\n",
    "def cleanup_datasets_in_dict(ddict):\n",
    "    ddict = drop_duplicate_timesteps(ddict) #remove duplicate timesteps if present\n",
    "    ddict = drop_coords(ddict,['vertices_latitude','vertices_longitude']) #remove coords & variables\n",
    "    ddict = drop_vars(ddict,['vertices_latitude','vertices_longitude'])\n",
    "\n",
    "    for k,v in ddict.items():\n",
    "        if 'dcpp_init_year' in v:\n",
    "            ddict[k] = v.isel(dcpp_init_year=0,drop=True)\n",
    "    return ddict"
   ]
  },
  {
   "cell_type": "markdown",
   "id": "cac55f9b-d5c3-46e7-8167-6ca6b216e764",
   "metadata": {},
   "source": [
    "Configure the script:"
   ]
  },
  {
   "cell_type": "code",
   "execution_count": 3,
   "id": "295422c2-6743-4393-93e8-6dd2d478660b",
   "metadata": {
    "tags": []
   },
   "outputs": [],
   "source": [
    "query_var = 'zos' #variables to process\n",
    "ssps = ['ssp585']\n",
    "#ssps = ['ssp126','ssp245','ssp370','ssp585'] #SSPs to process #(TODO: loop over multiple, streamline code!)\n",
    "\n",
    "regrid = True\n",
    "target_grid = xr.Dataset(\n",
    "    {\"lat\": ([\"lat\"], np.arange(-90, 90, 1), {\"units\": \"degrees_north\"}),\n",
    "     \"lon\": ([\"lon\"], np.arange(0, 360, 1), {\"units\": \"degrees_east\"}),})\n",
    "target_grid.attrs['name'] = '1x1'\n",
    "\n",
    "#models to exclude a-priori becaue of preprocessing issues (to be sorted out?)\n",
    "models_to_exclude = ['AWI-CM-1-1-MR','AWI-ESM-1-1-LR','AWI-CM-1-1-LR','KIOST-ESM']\n",
    "\n",
    "min_pic_numYears = 150\n",
    "\n",
    "output_period = ['1950','2500']\n",
    "\n",
    "output_path = 'gs://leap-persistent/timh37/CMIP6/'\n",
    "\n",
    "overwrite_existing = False"
   ]
  },
  {
   "cell_type": "markdown",
   "id": "a2066879-0d17-4c2e-bcd6-dba3da23b756",
   "metadata": {},
   "source": [
    "Query datasets, put into dictionaries of datasets, and preprocess:"
   ]
  },
  {
   "cell_type": "code",
   "execution_count": 4,
   "id": "5c0d6af3-eab5-4cc8-95cc-f5cf417a8f5e",
   "metadata": {
    "scrolled": true,
    "tags": []
   },
   "outputs": [
    {
     "name": "stdout",
     "output_type": "stream",
     "text": [
      "\n",
      "--> The keys in the returned dictionary of datasets are constructed as follows:\n",
      "\t'activity_id.institution_id.source_id.experiment_id.member_id.table_id.variable_id.grid_label.zstore.dcpp_init_year.version'\n"
     ]
    },
    {
     "data": {
      "text/html": [
       "\n",
       "<style>\n",
       "    /* Turns off some styling */\n",
       "    progress {\n",
       "        /* gets rid of default border in Firefox and Opera. */\n",
       "        border: none;\n",
       "        /* Needs to be in here for Safari polyfill so background images work as expected. */\n",
       "        background-size: auto;\n",
       "    }\n",
       "    progress:not([value]), progress:not([value])::-webkit-progress-bar {\n",
       "        background: repeating-linear-gradient(45deg, #7e7e7e, #7e7e7e 10px, #5c5c5c 10px, #5c5c5c 20px);\n",
       "    }\n",
       "    .progress-bar-interrupted, .progress-bar-interrupted::-webkit-progress-bar {\n",
       "        background: #F44336;\n",
       "    }\n",
       "</style>\n"
      ],
      "text/plain": [
       "<IPython.core.display.HTML object>"
      ]
     },
     "metadata": {},
     "output_type": "display_data"
    },
    {
     "data": {
      "text/html": [
       "\n",
       "    <div>\n",
       "      <progress value='81' class='' max='81' style='width:300px; height:20px; vertical-align: middle;'></progress>\n",
       "      100.00% [81/81 00:08&lt;00:00]\n",
       "    </div>\n",
       "    "
      ],
      "text/plain": [
       "<IPython.core.display.HTML object>"
      ]
     },
     "metadata": {},
     "output_type": "display_data"
    },
    {
     "name": "stderr",
     "output_type": "stream",
     "text": [
      "/srv/conda/envs/notebook/lib/python3.12/site-packages/xmip/preprocessing.py:96: UserWarning: CMIP.MIROC.MIROC-ES2L.piControl.r1i1p1f2.Omon.gn.none.zos:While renaming to target `lon_bounds`, more than one candidate was found ['x_bnds', 'vertices_longitude']. Renaming x_bnds to lon_bounds. Please double check results.\n",
      "  warnings.warn(\n",
      "/srv/conda/envs/notebook/lib/python3.12/site-packages/xmip/preprocessing.py:96: UserWarning: CMIP.MIROC.MIROC-ES2L.piControl.r1i1p1f2.Omon.gn.none.zos:While renaming to target `lat_bounds`, more than one candidate was found ['y_bnds', 'vertices_latitude']. Renaming y_bnds to lat_bounds. Please double check results.\n",
      "  warnings.warn(\n",
      "/srv/conda/envs/notebook/lib/python3.12/site-packages/xmip/preprocessing.py:96: UserWarning: CMIP.MRI.MRI-ESM2-0.piControl.r1i2p1f1.Omon.gn.none.zos:While renaming to target `lon_bounds`, more than one candidate was found ['x_bnds', 'vertices_longitude']. Renaming x_bnds to lon_bounds. Please double check results.\n",
      "  warnings.warn(\n",
      "/srv/conda/envs/notebook/lib/python3.12/site-packages/xmip/preprocessing.py:96: UserWarning: CMIP.MRI.MRI-ESM2-0.piControl.r1i2p1f1.Omon.gn.none.zos:While renaming to target `lat_bounds`, more than one candidate was found ['y_bnds', 'vertices_latitude']. Renaming y_bnds to lat_bounds. Please double check results.\n",
      "  warnings.warn(\n",
      "/srv/conda/envs/notebook/lib/python3.12/site-packages/xmip/preprocessing.py:96: UserWarning: CMIP.MIROC.MIROC6.piControl.r1i1p1f1.Omon.gn.none.zos:While renaming to target `lon_bounds`, more than one candidate was found ['x_bnds', 'vertices_longitude']. Renaming x_bnds to lon_bounds. Please double check results.\n",
      "  warnings.warn(\n",
      "/srv/conda/envs/notebook/lib/python3.12/site-packages/xmip/preprocessing.py:96: UserWarning: CMIP.MIROC.MIROC6.piControl.r1i1p1f1.Omon.gn.none.zos:While renaming to target `lat_bounds`, more than one candidate was found ['y_bnds', 'vertices_latitude']. Renaming y_bnds to lat_bounds. Please double check results.\n",
      "  warnings.warn(\n",
      "/srv/conda/envs/notebook/lib/python3.12/site-packages/xmip/preprocessing.py:96: UserWarning: CMIP.MRI.MRI-ESM2-0.piControl.r1i1p1f1.Omon.gn.none.zos:While renaming to target `lon_bounds`, more than one candidate was found ['x_bnds', 'vertices_longitude']. Renaming x_bnds to lon_bounds. Please double check results.\n",
      "  warnings.warn(\n",
      "/srv/conda/envs/notebook/lib/python3.12/site-packages/xmip/preprocessing.py:96: UserWarning: CMIP.MRI.MRI-ESM2-0.piControl.r1i1p1f1.Omon.gn.none.zos:While renaming to target `lat_bounds`, more than one candidate was found ['y_bnds', 'vertices_latitude']. Renaming y_bnds to lat_bounds. Please double check results.\n",
      "  warnings.warn(\n"
     ]
    },
    {
     "name": "stdout",
     "output_type": "stream",
     "text": [
      "\n",
      "--> The keys in the returned dictionary of datasets are constructed as follows:\n",
      "\t'activity_id.institution_id.source_id.experiment_id.member_id.table_id.variable_id.grid_label.zstore.dcpp_init_year.version'\n"
     ]
    },
    {
     "data": {
      "text/html": [
       "\n",
       "<style>\n",
       "    /* Turns off some styling */\n",
       "    progress {\n",
       "        /* gets rid of default border in Firefox and Opera. */\n",
       "        border: none;\n",
       "        /* Needs to be in here for Safari polyfill so background images work as expected. */\n",
       "        background-size: auto;\n",
       "    }\n",
       "    progress:not([value]), progress:not([value])::-webkit-progress-bar {\n",
       "        background: repeating-linear-gradient(45deg, #7e7e7e, #7e7e7e 10px, #5c5c5c 10px, #5c5c5c 20px);\n",
       "    }\n",
       "    .progress-bar-interrupted, .progress-bar-interrupted::-webkit-progress-bar {\n",
       "        background: #F44336;\n",
       "    }\n",
       "</style>\n"
      ],
      "text/plain": [
       "<IPython.core.display.HTML object>"
      ]
     },
     "metadata": {},
     "output_type": "display_data"
    },
    {
     "data": {
      "text/html": [
       "\n",
       "    <div>\n",
       "      <progress value='64' class='' max='64' style='width:300px; height:20px; vertical-align: middle;'></progress>\n",
       "      100.00% [64/64 00:02&lt;00:00]\n",
       "    </div>\n",
       "    "
      ],
      "text/plain": [
       "<IPython.core.display.HTML object>"
      ]
     },
     "metadata": {},
     "output_type": "display_data"
    },
    {
     "name": "stderr",
     "output_type": "stream",
     "text": [
      "/srv/conda/envs/notebook/lib/python3.12/site-packages/xmip/preprocessing.py:96: UserWarning: CMIP.MIROC.MIROC-ES2L.historical.r2i1p1f2.Ofx.gn.none.areacello:While renaming to target `lon_bounds`, more than one candidate was found ['x_bnds', 'vertices_longitude']. Renaming x_bnds to lon_bounds. Please double check results.\n",
      "  warnings.warn(\n",
      "/srv/conda/envs/notebook/lib/python3.12/site-packages/xmip/preprocessing.py:96: UserWarning: CMIP.MIROC.MIROC-ES2L.historical.r2i1p1f2.Ofx.gn.none.areacello:While renaming to target `lat_bounds`, more than one candidate was found ['y_bnds', 'vertices_latitude']. Renaming y_bnds to lat_bounds. Please double check results.\n",
      "  warnings.warn(\n",
      "/srv/conda/envs/notebook/lib/python3.12/site-packages/xmip/preprocessing.py:96: UserWarning: CMIP.MRI.MRI-ESM2-0.historical.r4i1p1f1.Ofx.gn.none.areacello:While renaming to target `lon_bounds`, more than one candidate was found ['x_bnds', 'vertices_longitude']. Renaming x_bnds to lon_bounds. Please double check results.\n",
      "  warnings.warn(\n",
      "/srv/conda/envs/notebook/lib/python3.12/site-packages/xmip/preprocessing.py:96: UserWarning: CMIP.MRI.MRI-ESM2-0.historical.r4i1p1f1.Ofx.gn.none.areacello:While renaming to target `lat_bounds`, more than one candidate was found ['y_bnds', 'vertices_latitude']. Renaming y_bnds to lat_bounds. Please double check results.\n",
      "  warnings.warn(\n",
      "/srv/conda/envs/notebook/lib/python3.12/site-packages/xmip/preprocessing.py:96: UserWarning: FAFMIP.MIROC.MIROC6.faf-passiveheat.r1i1p1f1.Ofx.gn.none.areacello:While renaming to target `lon_bounds`, more than one candidate was found ['x_bnds', 'vertices_longitude']. Renaming x_bnds to lon_bounds. Please double check results.\n",
      "  warnings.warn(\n",
      "/srv/conda/envs/notebook/lib/python3.12/site-packages/xmip/preprocessing.py:96: UserWarning: FAFMIP.MIROC.MIROC6.faf-passiveheat.r1i1p1f1.Ofx.gn.none.areacello:While renaming to target `lat_bounds`, more than one candidate was found ['y_bnds', 'vertices_latitude']. Renaming y_bnds to lat_bounds. Please double check results.\n",
      "  warnings.warn(\n"
     ]
    },
    {
     "name": "stdout",
     "output_type": "stream",
     "text": [
      "\n",
      "--> The keys in the returned dictionary of datasets are constructed as follows:\n",
      "\t'activity_id.institution_id.source_id.experiment_id.member_id.table_id.variable_id.grid_label.zstore.dcpp_init_year.version'\n"
     ]
    },
    {
     "data": {
      "text/html": [
       "\n",
       "<style>\n",
       "    /* Turns off some styling */\n",
       "    progress {\n",
       "        /* gets rid of default border in Firefox and Opera. */\n",
       "        border: none;\n",
       "        /* Needs to be in here for Safari polyfill so background images work as expected. */\n",
       "        background-size: auto;\n",
       "    }\n",
       "    progress:not([value]), progress:not([value])::-webkit-progress-bar {\n",
       "        background: repeating-linear-gradient(45deg, #7e7e7e, #7e7e7e 10px, #5c5c5c 10px, #5c5c5c 20px);\n",
       "    }\n",
       "    .progress-bar-interrupted, .progress-bar-interrupted::-webkit-progress-bar {\n",
       "        background: #F44336;\n",
       "    }\n",
       "</style>\n"
      ],
      "text/plain": [
       "<IPython.core.display.HTML object>"
      ]
     },
     "metadata": {},
     "output_type": "display_data"
    },
    {
     "data": {
      "text/html": [
       "\n",
       "    <div>\n",
       "      <progress value='660' class='' max='660' style='width:300px; height:20px; vertical-align: middle;'></progress>\n",
       "      100.00% [660/660 00:36&lt;00:00]\n",
       "    </div>\n",
       "    "
      ],
      "text/plain": [
       "<IPython.core.display.HTML object>"
      ]
     },
     "metadata": {},
     "output_type": "display_data"
    },
    {
     "name": "stderr",
     "output_type": "stream",
     "text": [
      "/srv/conda/envs/notebook/lib/python3.12/site-packages/xmip/preprocessing.py:96: UserWarning: CMIP.MIROC.MIROC6.historical.r32i1p1f1.Omon.gn.none.zos:While renaming to target `lon_bounds`, more than one candidate was found ['x_bnds', 'vertices_longitude']. Renaming x_bnds to lon_bounds. Please double check results.\n",
      "  warnings.warn(\n",
      "/srv/conda/envs/notebook/lib/python3.12/site-packages/xmip/preprocessing.py:96: UserWarning: CMIP.MIROC.MIROC6.historical.r32i1p1f1.Omon.gn.none.zos:While renaming to target `lat_bounds`, more than one candidate was found ['y_bnds', 'vertices_latitude']. Renaming y_bnds to lat_bounds. Please double check results.\n",
      "  warnings.warn(\n",
      "/srv/conda/envs/notebook/lib/python3.12/site-packages/xmip/preprocessing.py:96: UserWarning: ScenarioMIP.MIROC.MIROC6.ssp585.r17i1p1f1.Omon.gn.none.zos:While renaming to target `lon_bounds`, more than one candidate was found ['x_bnds', 'vertices_longitude']. Renaming x_bnds to lon_bounds. Please double check results.\n",
      "  warnings.warn(\n",
      "/srv/conda/envs/notebook/lib/python3.12/site-packages/xmip/preprocessing.py:96: UserWarning: ScenarioMIP.MIROC.MIROC6.ssp585.r17i1p1f1.Omon.gn.none.zos:While renaming to target `lat_bounds`, more than one candidate was found ['y_bnds', 'vertices_latitude']. Renaming y_bnds to lat_bounds. Please double check results.\n",
      "  warnings.warn(\n",
      "/srv/conda/envs/notebook/lib/python3.12/site-packages/xmip/preprocessing.py:96: UserWarning: CMIP.MIROC.MIROC6.historical.r48i1p1f1.Omon.gn.none.zos:While renaming to target `lon_bounds`, more than one candidate was found ['x_bnds', 'vertices_longitude']. Renaming x_bnds to lon_bounds. Please double check results.\n",
      "  warnings.warn(\n",
      "/srv/conda/envs/notebook/lib/python3.12/site-packages/xmip/preprocessing.py:96: UserWarning: CMIP.MIROC.MIROC6.historical.r48i1p1f1.Omon.gn.none.zos:While renaming to target `lat_bounds`, more than one candidate was found ['y_bnds', 'vertices_latitude']. Renaming y_bnds to lat_bounds. Please double check results.\n",
      "  warnings.warn(\n",
      "/srv/conda/envs/notebook/lib/python3.12/site-packages/xmip/preprocessing.py:96: UserWarning: CMIP.MIROC.MIROC6.historical.r16i1p1f1.Omon.gn.none.zos:While renaming to target `lon_bounds`, more than one candidate was found ['x_bnds', 'vertices_longitude']. Renaming x_bnds to lon_bounds. Please double check results.\n",
      "  warnings.warn(\n",
      "/srv/conda/envs/notebook/lib/python3.12/site-packages/xmip/preprocessing.py:96: UserWarning: CMIP.MIROC.MIROC6.historical.r16i1p1f1.Omon.gn.none.zos:While renaming to target `lat_bounds`, more than one candidate was found ['y_bnds', 'vertices_latitude']. Renaming y_bnds to lat_bounds. Please double check results.\n",
      "  warnings.warn(\n",
      "/srv/conda/envs/notebook/lib/python3.12/site-packages/xmip/preprocessing.py:96: UserWarning: ScenarioMIP.MIROC.MIROC6.ssp585.r29i1p1f1.Omon.gn.none.zos:While renaming to target `lon_bounds`, more than one candidate was found ['x_bnds', 'vertices_longitude']. Renaming x_bnds to lon_bounds. Please double check results.\n",
      "  warnings.warn(\n",
      "/srv/conda/envs/notebook/lib/python3.12/site-packages/xmip/preprocessing.py:96: UserWarning: ScenarioMIP.MIROC.MIROC6.ssp585.r29i1p1f1.Omon.gn.none.zos:While renaming to target `lat_bounds`, more than one candidate was found ['y_bnds', 'vertices_latitude']. Renaming y_bnds to lat_bounds. Please double check results.\n",
      "  warnings.warn(\n",
      "/srv/conda/envs/notebook/lib/python3.12/site-packages/xmip/preprocessing.py:96: UserWarning: CMIP.MIROC.MIROC6.historical.r1i1p1f1.Omon.gn.none.zos:While renaming to target `lon_bounds`, more than one candidate was found ['x_bnds', 'vertices_longitude']. Renaming x_bnds to lon_bounds. Please double check results.\n",
      "  warnings.warn(\n",
      "/srv/conda/envs/notebook/lib/python3.12/site-packages/xmip/preprocessing.py:96: UserWarning: CMIP.MIROC.MIROC6.historical.r1i1p1f1.Omon.gn.none.zos:While renaming to target `lat_bounds`, more than one candidate was found ['y_bnds', 'vertices_latitude']. Renaming y_bnds to lat_bounds. Please double check results.\n",
      "  warnings.warn(\n",
      "/srv/conda/envs/notebook/lib/python3.12/site-packages/xmip/preprocessing.py:96: UserWarning: CMIP.MIROC.MIROC6.historical.r28i1p1f1.Omon.gn.none.zos:While renaming to target `lon_bounds`, more than one candidate was found ['x_bnds', 'vertices_longitude']. Renaming x_bnds to lon_bounds. Please double check results.\n",
      "  warnings.warn(\n",
      "/srv/conda/envs/notebook/lib/python3.12/site-packages/xmip/preprocessing.py:96: UserWarning: CMIP.MIROC.MIROC6.historical.r28i1p1f1.Omon.gn.none.zos:While renaming to target `lat_bounds`, more than one candidate was found ['y_bnds', 'vertices_latitude']. Renaming y_bnds to lat_bounds. Please double check results.\n",
      "  warnings.warn(\n",
      "/srv/conda/envs/notebook/lib/python3.12/site-packages/xmip/preprocessing.py:96: UserWarning: ScenarioMIP.MIROC.MIROC6.ssp585.r48i1p1f1.Omon.gn.none.zos:While renaming to target `lon_bounds`, more than one candidate was found ['x_bnds', 'vertices_longitude']. Renaming x_bnds to lon_bounds. Please double check results.\n",
      "  warnings.warn(\n",
      "/srv/conda/envs/notebook/lib/python3.12/site-packages/xmip/preprocessing.py:96: UserWarning: ScenarioMIP.MIROC.MIROC6.ssp585.r48i1p1f1.Omon.gn.none.zos:While renaming to target `lat_bounds`, more than one candidate was found ['y_bnds', 'vertices_latitude']. Renaming y_bnds to lat_bounds. Please double check results.\n",
      "  warnings.warn(\n",
      "/srv/conda/envs/notebook/lib/python3.12/site-packages/xmip/preprocessing.py:96: UserWarning: CMIP.MIROC.MIROC6.historical.r39i1p1f1.Omon.gn.none.zos:While renaming to target `lon_bounds`, more than one candidate was found ['x_bnds', 'vertices_longitude']. Renaming x_bnds to lon_bounds. Please double check results.\n",
      "  warnings.warn(\n",
      "/srv/conda/envs/notebook/lib/python3.12/site-packages/xmip/preprocessing.py:96: UserWarning: CMIP.MIROC.MIROC6.historical.r39i1p1f1.Omon.gn.none.zos:While renaming to target `lat_bounds`, more than one candidate was found ['y_bnds', 'vertices_latitude']. Renaming y_bnds to lat_bounds. Please double check results.\n",
      "  warnings.warn(\n",
      "/srv/conda/envs/notebook/lib/python3.12/site-packages/xmip/preprocessing.py:96: UserWarning: ScenarioMIP.MIROC.MIROC6.ssp585.r3i1p1f1.Omon.gn.none.zos:While renaming to target `lon_bounds`, more than one candidate was found ['x_bnds', 'vertices_longitude']. Renaming x_bnds to lon_bounds. Please double check results.\n",
      "  warnings.warn(\n",
      "/srv/conda/envs/notebook/lib/python3.12/site-packages/xmip/preprocessing.py:96: UserWarning: ScenarioMIP.MIROC.MIROC6.ssp585.r3i1p1f1.Omon.gn.none.zos:While renaming to target `lat_bounds`, more than one candidate was found ['y_bnds', 'vertices_latitude']. Renaming y_bnds to lat_bounds. Please double check results.\n",
      "  warnings.warn(\n",
      "/srv/conda/envs/notebook/lib/python3.12/site-packages/xmip/preprocessing.py:96: UserWarning: ScenarioMIP.MIROC.MIROC6.ssp585.r2i1p1f1.Omon.gn.none.zos:While renaming to target `lon_bounds`, more than one candidate was found ['x_bnds', 'vertices_longitude']. Renaming x_bnds to lon_bounds. Please double check results.\n",
      "  warnings.warn(\n",
      "/srv/conda/envs/notebook/lib/python3.12/site-packages/xmip/preprocessing.py:96: UserWarning: ScenarioMIP.MIROC.MIROC6.ssp585.r2i1p1f1.Omon.gn.none.zos:While renaming to target `lat_bounds`, more than one candidate was found ['y_bnds', 'vertices_latitude']. Renaming y_bnds to lat_bounds. Please double check results.\n",
      "  warnings.warn(\n",
      "/srv/conda/envs/notebook/lib/python3.12/site-packages/xmip/preprocessing.py:96: UserWarning: CMIP.MIROC.MIROC6.historical.r6i1p1f1.Omon.gn.none.zos:While renaming to target `lon_bounds`, more than one candidate was found ['x_bnds', 'vertices_longitude']. Renaming x_bnds to lon_bounds. Please double check results.\n",
      "  warnings.warn(\n",
      "/srv/conda/envs/notebook/lib/python3.12/site-packages/xmip/preprocessing.py:96: UserWarning: CMIP.MIROC.MIROC6.historical.r6i1p1f1.Omon.gn.none.zos:While renaming to target `lat_bounds`, more than one candidate was found ['y_bnds', 'vertices_latitude']. Renaming y_bnds to lat_bounds. Please double check results.\n",
      "  warnings.warn(\n",
      "/srv/conda/envs/notebook/lib/python3.12/site-packages/xmip/preprocessing.py:96: UserWarning: ScenarioMIP.MIROC.MIROC6.ssp585.r10i1p1f1.Omon.gn.none.zos:While renaming to target `lon_bounds`, more than one candidate was found ['x_bnds', 'vertices_longitude']. Renaming x_bnds to lon_bounds. Please double check results.\n",
      "  warnings.warn(\n",
      "/srv/conda/envs/notebook/lib/python3.12/site-packages/xmip/preprocessing.py:96: UserWarning: ScenarioMIP.MIROC.MIROC6.ssp585.r10i1p1f1.Omon.gn.none.zos:While renaming to target `lat_bounds`, more than one candidate was found ['y_bnds', 'vertices_latitude']. Renaming y_bnds to lat_bounds. Please double check results.\n",
      "  warnings.warn(\n",
      "/srv/conda/envs/notebook/lib/python3.12/site-packages/xmip/preprocessing.py:96: UserWarning: CMIP.MIROC.MIROC6.historical.r5i1p1f1.Omon.gn.none.zos:While renaming to target `lon_bounds`, more than one candidate was found ['x_bnds', 'vertices_longitude']. Renaming x_bnds to lon_bounds. Please double check results.\n",
      "  warnings.warn(\n",
      "/srv/conda/envs/notebook/lib/python3.12/site-packages/xmip/preprocessing.py:96: UserWarning: CMIP.MIROC.MIROC6.historical.r5i1p1f1.Omon.gn.none.zos:While renaming to target `lat_bounds`, more than one candidate was found ['y_bnds', 'vertices_latitude']. Renaming y_bnds to lat_bounds. Please double check results.\n",
      "  warnings.warn(\n",
      "/srv/conda/envs/notebook/lib/python3.12/site-packages/xmip/preprocessing.py:96: UserWarning: CMIP.MIROC.MIROC6.historical.r35i1p1f1.Omon.gn.none.zos:While renaming to target `lon_bounds`, more than one candidate was found ['x_bnds', 'vertices_longitude']. Renaming x_bnds to lon_bounds. Please double check results.\n",
      "  warnings.warn(\n",
      "/srv/conda/envs/notebook/lib/python3.12/site-packages/xmip/preprocessing.py:96: UserWarning: CMIP.MIROC.MIROC6.historical.r35i1p1f1.Omon.gn.none.zos:While renaming to target `lat_bounds`, more than one candidate was found ['y_bnds', 'vertices_latitude']. Renaming y_bnds to lat_bounds. Please double check results.\n",
      "  warnings.warn(\n",
      "/srv/conda/envs/notebook/lib/python3.12/site-packages/xmip/preprocessing.py:96: UserWarning: CMIP.MIROC.MIROC6.historical.r4i1p1f1.Omon.gn.none.zos:While renaming to target `lon_bounds`, more than one candidate was found ['x_bnds', 'vertices_longitude']. Renaming x_bnds to lon_bounds. Please double check results.\n",
      "  warnings.warn(\n",
      "/srv/conda/envs/notebook/lib/python3.12/site-packages/xmip/preprocessing.py:96: UserWarning: CMIP.MIROC.MIROC6.historical.r4i1p1f1.Omon.gn.none.zos:While renaming to target `lat_bounds`, more than one candidate was found ['y_bnds', 'vertices_latitude']. Renaming y_bnds to lat_bounds. Please double check results.\n",
      "  warnings.warn(\n",
      "/srv/conda/envs/notebook/lib/python3.12/site-packages/xmip/preprocessing.py:96: UserWarning: CMIP.MIROC.MIROC6.historical.r41i1p1f1.Omon.gn.none.zos:While renaming to target `lon_bounds`, more than one candidate was found ['x_bnds', 'vertices_longitude']. Renaming x_bnds to lon_bounds. Please double check results.\n",
      "  warnings.warn(\n",
      "/srv/conda/envs/notebook/lib/python3.12/site-packages/xmip/preprocessing.py:96: UserWarning: CMIP.MIROC.MIROC6.historical.r41i1p1f1.Omon.gn.none.zos:While renaming to target `lat_bounds`, more than one candidate was found ['y_bnds', 'vertices_latitude']. Renaming y_bnds to lat_bounds. Please double check results.\n",
      "  warnings.warn(\n",
      "/srv/conda/envs/notebook/lib/python3.12/site-packages/xmip/preprocessing.py:96: UserWarning: CMIP.MIROC.MIROC6.historical.r12i1p1f1.Omon.gn.none.zos:While renaming to target `lon_bounds`, more than one candidate was found ['x_bnds', 'vertices_longitude']. Renaming x_bnds to lon_bounds. Please double check results.\n",
      "  warnings.warn(\n",
      "/srv/conda/envs/notebook/lib/python3.12/site-packages/xmip/preprocessing.py:96: UserWarning: CMIP.MIROC.MIROC6.historical.r12i1p1f1.Omon.gn.none.zos:While renaming to target `lat_bounds`, more than one candidate was found ['y_bnds', 'vertices_latitude']. Renaming y_bnds to lat_bounds. Please double check results.\n",
      "  warnings.warn(\n",
      "/srv/conda/envs/notebook/lib/python3.12/site-packages/xmip/preprocessing.py:96: UserWarning: CMIP.MIROC.MIROC6.historical.r50i1p1f1.Omon.gn.none.zos:While renaming to target `lon_bounds`, more than one candidate was found ['x_bnds', 'vertices_longitude']. Renaming x_bnds to lon_bounds. Please double check results.\n",
      "  warnings.warn(\n",
      "/srv/conda/envs/notebook/lib/python3.12/site-packages/xmip/preprocessing.py:96: UserWarning: CMIP.MIROC.MIROC6.historical.r50i1p1f1.Omon.gn.none.zos:While renaming to target `lat_bounds`, more than one candidate was found ['y_bnds', 'vertices_latitude']. Renaming y_bnds to lat_bounds. Please double check results.\n",
      "  warnings.warn(\n",
      "/srv/conda/envs/notebook/lib/python3.12/site-packages/xmip/preprocessing.py:96: UserWarning: ScenarioMIP.MIROC.MIROC6.ssp585.r30i1p1f1.Omon.gn.none.zos:While renaming to target `lon_bounds`, more than one candidate was found ['x_bnds', 'vertices_longitude']. Renaming x_bnds to lon_bounds. Please double check results.\n",
      "  warnings.warn(\n",
      "/srv/conda/envs/notebook/lib/python3.12/site-packages/xmip/preprocessing.py:96: UserWarning: ScenarioMIP.MIROC.MIROC6.ssp585.r30i1p1f1.Omon.gn.none.zos:While renaming to target `lat_bounds`, more than one candidate was found ['y_bnds', 'vertices_latitude']. Renaming y_bnds to lat_bounds. Please double check results.\n",
      "  warnings.warn(\n",
      "/srv/conda/envs/notebook/lib/python3.12/site-packages/xmip/preprocessing.py:96: UserWarning: ScenarioMIP.MIROC.MIROC6.ssp585.r23i1p1f1.Omon.gn.none.zos:While renaming to target `lon_bounds`, more than one candidate was found ['x_bnds', 'vertices_longitude']. Renaming x_bnds to lon_bounds. Please double check results.\n",
      "  warnings.warn(\n",
      "/srv/conda/envs/notebook/lib/python3.12/site-packages/xmip/preprocessing.py:96: UserWarning: ScenarioMIP.MIROC.MIROC6.ssp585.r23i1p1f1.Omon.gn.none.zos:While renaming to target `lat_bounds`, more than one candidate was found ['y_bnds', 'vertices_latitude']. Renaming y_bnds to lat_bounds. Please double check results.\n",
      "  warnings.warn(\n",
      "/srv/conda/envs/notebook/lib/python3.12/site-packages/xmip/preprocessing.py:96: UserWarning: ScenarioMIP.MIROC.MIROC6.ssp585.r42i1p1f1.Omon.gn.none.zos:While renaming to target `lon_bounds`, more than one candidate was found ['x_bnds', 'vertices_longitude']. Renaming x_bnds to lon_bounds. Please double check results.\n",
      "  warnings.warn(\n",
      "/srv/conda/envs/notebook/lib/python3.12/site-packages/xmip/preprocessing.py:96: UserWarning: ScenarioMIP.MIROC.MIROC6.ssp585.r42i1p1f1.Omon.gn.none.zos:While renaming to target `lat_bounds`, more than one candidate was found ['y_bnds', 'vertices_latitude']. Renaming y_bnds to lat_bounds. Please double check results.\n",
      "  warnings.warn(\n",
      "/srv/conda/envs/notebook/lib/python3.12/site-packages/xmip/preprocessing.py:96: UserWarning: CMIP.MIROC.MIROC6.historical.r17i1p1f1.Omon.gn.none.zos:While renaming to target `lon_bounds`, more than one candidate was found ['x_bnds', 'vertices_longitude']. Renaming x_bnds to lon_bounds. Please double check results.\n",
      "  warnings.warn(\n",
      "/srv/conda/envs/notebook/lib/python3.12/site-packages/xmip/preprocessing.py:96: UserWarning: CMIP.MIROC.MIROC6.historical.r17i1p1f1.Omon.gn.none.zos:While renaming to target `lat_bounds`, more than one candidate was found ['y_bnds', 'vertices_latitude']. Renaming y_bnds to lat_bounds. Please double check results.\n",
      "  warnings.warn(\n",
      "/srv/conda/envs/notebook/lib/python3.12/site-packages/xmip/preprocessing.py:96: UserWarning: CMIP.MIROC.MIROC6.historical.r10i1p1f1.Omon.gn.none.zos:While renaming to target `lon_bounds`, more than one candidate was found ['x_bnds', 'vertices_longitude']. Renaming x_bnds to lon_bounds. Please double check results.\n",
      "  warnings.warn(\n",
      "/srv/conda/envs/notebook/lib/python3.12/site-packages/xmip/preprocessing.py:96: UserWarning: CMIP.MIROC.MIROC6.historical.r10i1p1f1.Omon.gn.none.zos:While renaming to target `lat_bounds`, more than one candidate was found ['y_bnds', 'vertices_latitude']. Renaming y_bnds to lat_bounds. Please double check results.\n",
      "  warnings.warn(\n",
      "/srv/conda/envs/notebook/lib/python3.12/site-packages/xmip/preprocessing.py:96: UserWarning: CMIP.MIROC.MIROC6.historical.r11i1p1f1.Omon.gn.none.zos:While renaming to target `lon_bounds`, more than one candidate was found ['x_bnds', 'vertices_longitude']. Renaming x_bnds to lon_bounds. Please double check results.\n",
      "  warnings.warn(\n",
      "/srv/conda/envs/notebook/lib/python3.12/site-packages/xmip/preprocessing.py:96: UserWarning: CMIP.MIROC.MIROC6.historical.r11i1p1f1.Omon.gn.none.zos:While renaming to target `lat_bounds`, more than one candidate was found ['y_bnds', 'vertices_latitude']. Renaming y_bnds to lat_bounds. Please double check results.\n",
      "  warnings.warn(\n",
      "/srv/conda/envs/notebook/lib/python3.12/site-packages/xmip/preprocessing.py:96: UserWarning: ScenarioMIP.MIROC.MIROC6.ssp585.r5i1p1f1.Omon.gn.none.zos:While renaming to target `lon_bounds`, more than one candidate was found ['x_bnds', 'vertices_longitude']. Renaming x_bnds to lon_bounds. Please double check results.\n",
      "  warnings.warn(\n",
      "/srv/conda/envs/notebook/lib/python3.12/site-packages/xmip/preprocessing.py:96: UserWarning: ScenarioMIP.MIROC.MIROC6.ssp585.r5i1p1f1.Omon.gn.none.zos:While renaming to target `lat_bounds`, more than one candidate was found ['y_bnds', 'vertices_latitude']. Renaming y_bnds to lat_bounds. Please double check results.\n",
      "  warnings.warn(\n",
      "/srv/conda/envs/notebook/lib/python3.12/site-packages/xmip/preprocessing.py:96: UserWarning: ScenarioMIP.MIROC.MIROC6.ssp585.r6i1p1f1.Omon.gn.none.zos:While renaming to target `lon_bounds`, more than one candidate was found ['x_bnds', 'vertices_longitude']. Renaming x_bnds to lon_bounds. Please double check results.\n",
      "  warnings.warn(\n",
      "/srv/conda/envs/notebook/lib/python3.12/site-packages/xmip/preprocessing.py:96: UserWarning: ScenarioMIP.MIROC.MIROC6.ssp585.r6i1p1f1.Omon.gn.none.zos:While renaming to target `lat_bounds`, more than one candidate was found ['y_bnds', 'vertices_latitude']. Renaming y_bnds to lat_bounds. Please double check results.\n",
      "  warnings.warn(\n",
      "/srv/conda/envs/notebook/lib/python3.12/site-packages/xmip/preprocessing.py:96: UserWarning: CMIP.MIROC.MIROC6.historical.r25i1p1f1.Omon.gn.none.zos:While renaming to target `lon_bounds`, more than one candidate was found ['x_bnds', 'vertices_longitude']. Renaming x_bnds to lon_bounds. Please double check results.\n",
      "  warnings.warn(\n",
      "/srv/conda/envs/notebook/lib/python3.12/site-packages/xmip/preprocessing.py:96: UserWarning: CMIP.MIROC.MIROC6.historical.r25i1p1f1.Omon.gn.none.zos:While renaming to target `lat_bounds`, more than one candidate was found ['y_bnds', 'vertices_latitude']. Renaming y_bnds to lat_bounds. Please double check results.\n",
      "  warnings.warn(\n",
      "/srv/conda/envs/notebook/lib/python3.12/site-packages/xmip/preprocessing.py:96: UserWarning: ScenarioMIP.MIROC.MIROC6.ssp585.r20i1p1f1.Omon.gn.none.zos:While renaming to target `lon_bounds`, more than one candidate was found ['x_bnds', 'vertices_longitude']. Renaming x_bnds to lon_bounds. Please double check results.\n",
      "  warnings.warn(\n",
      "/srv/conda/envs/notebook/lib/python3.12/site-packages/xmip/preprocessing.py:96: UserWarning: ScenarioMIP.MIROC.MIROC6.ssp585.r20i1p1f1.Omon.gn.none.zos:While renaming to target `lat_bounds`, more than one candidate was found ['y_bnds', 'vertices_latitude']. Renaming y_bnds to lat_bounds. Please double check results.\n",
      "  warnings.warn(\n",
      "/srv/conda/envs/notebook/lib/python3.12/site-packages/xmip/preprocessing.py:96: UserWarning: ScenarioMIP.MIROC.MIROC6.ssp585.r14i1p1f1.Omon.gn.none.zos:While renaming to target `lon_bounds`, more than one candidate was found ['x_bnds', 'vertices_longitude']. Renaming x_bnds to lon_bounds. Please double check results.\n",
      "  warnings.warn(\n",
      "/srv/conda/envs/notebook/lib/python3.12/site-packages/xmip/preprocessing.py:96: UserWarning: ScenarioMIP.MIROC.MIROC6.ssp585.r14i1p1f1.Omon.gn.none.zos:While renaming to target `lat_bounds`, more than one candidate was found ['y_bnds', 'vertices_latitude']. Renaming y_bnds to lat_bounds. Please double check results.\n",
      "  warnings.warn(\n",
      "/srv/conda/envs/notebook/lib/python3.12/site-packages/xmip/preprocessing.py:96: UserWarning: CMIP.MIROC.MIROC6.historical.r45i1p1f1.Omon.gn.none.zos:While renaming to target `lon_bounds`, more than one candidate was found ['x_bnds', 'vertices_longitude']. Renaming x_bnds to lon_bounds. Please double check results.\n",
      "  warnings.warn(\n",
      "/srv/conda/envs/notebook/lib/python3.12/site-packages/xmip/preprocessing.py:96: UserWarning: CMIP.MIROC.MIROC6.historical.r45i1p1f1.Omon.gn.none.zos:While renaming to target `lat_bounds`, more than one candidate was found ['y_bnds', 'vertices_latitude']. Renaming y_bnds to lat_bounds. Please double check results.\n",
      "  warnings.warn(\n",
      "/srv/conda/envs/notebook/lib/python3.12/site-packages/xmip/preprocessing.py:96: UserWarning: CMIP.MIROC.MIROC6.historical.r43i1p1f1.Omon.gn.none.zos:While renaming to target `lon_bounds`, more than one candidate was found ['x_bnds', 'vertices_longitude']. Renaming x_bnds to lon_bounds. Please double check results.\n",
      "  warnings.warn(\n",
      "/srv/conda/envs/notebook/lib/python3.12/site-packages/xmip/preprocessing.py:96: UserWarning: CMIP.MIROC.MIROC6.historical.r43i1p1f1.Omon.gn.none.zos:While renaming to target `lat_bounds`, more than one candidate was found ['y_bnds', 'vertices_latitude']. Renaming y_bnds to lat_bounds. Please double check results.\n",
      "  warnings.warn(\n",
      "/srv/conda/envs/notebook/lib/python3.12/site-packages/xmip/preprocessing.py:96: UserWarning: CMIP.MIROC.MIROC6.historical.r33i1p1f1.Omon.gn.none.zos:While renaming to target `lon_bounds`, more than one candidate was found ['x_bnds', 'vertices_longitude']. Renaming x_bnds to lon_bounds. Please double check results.\n",
      "  warnings.warn(\n",
      "/srv/conda/envs/notebook/lib/python3.12/site-packages/xmip/preprocessing.py:96: UserWarning: CMIP.MIROC.MIROC6.historical.r33i1p1f1.Omon.gn.none.zos:While renaming to target `lat_bounds`, more than one candidate was found ['y_bnds', 'vertices_latitude']. Renaming y_bnds to lat_bounds. Please double check results.\n",
      "  warnings.warn(\n",
      "/srv/conda/envs/notebook/lib/python3.12/site-packages/xmip/preprocessing.py:96: UserWarning: ScenarioMIP.MIROC.MIROC6.ssp585.r47i1p1f1.Omon.gn.none.zos:While renaming to target `lon_bounds`, more than one candidate was found ['x_bnds', 'vertices_longitude']. Renaming x_bnds to lon_bounds. Please double check results.\n",
      "  warnings.warn(\n",
      "/srv/conda/envs/notebook/lib/python3.12/site-packages/xmip/preprocessing.py:96: UserWarning: ScenarioMIP.MIROC.MIROC6.ssp585.r47i1p1f1.Omon.gn.none.zos:While renaming to target `lat_bounds`, more than one candidate was found ['y_bnds', 'vertices_latitude']. Renaming y_bnds to lat_bounds. Please double check results.\n",
      "  warnings.warn(\n",
      "/srv/conda/envs/notebook/lib/python3.12/site-packages/xmip/preprocessing.py:96: UserWarning: ScenarioMIP.MIROC.MIROC6.ssp585.r18i1p1f1.Omon.gn.none.zos:While renaming to target `lon_bounds`, more than one candidate was found ['x_bnds', 'vertices_longitude']. Renaming x_bnds to lon_bounds. Please double check results.\n",
      "  warnings.warn(\n",
      "/srv/conda/envs/notebook/lib/python3.12/site-packages/xmip/preprocessing.py:96: UserWarning: ScenarioMIP.MIROC.MIROC6.ssp585.r18i1p1f1.Omon.gn.none.zos:While renaming to target `lat_bounds`, more than one candidate was found ['y_bnds', 'vertices_latitude']. Renaming y_bnds to lat_bounds. Please double check results.\n",
      "  warnings.warn(\n",
      "/srv/conda/envs/notebook/lib/python3.12/site-packages/xmip/preprocessing.py:96: UserWarning: ScenarioMIP.MIROC.MIROC6.ssp585.r37i1p1f1.Omon.gn.none.zos:While renaming to target `lon_bounds`, more than one candidate was found ['x_bnds', 'vertices_longitude']. Renaming x_bnds to lon_bounds. Please double check results.\n",
      "  warnings.warn(\n",
      "/srv/conda/envs/notebook/lib/python3.12/site-packages/xmip/preprocessing.py:96: UserWarning: ScenarioMIP.MIROC.MIROC6.ssp585.r37i1p1f1.Omon.gn.none.zos:While renaming to target `lat_bounds`, more than one candidate was found ['y_bnds', 'vertices_latitude']. Renaming y_bnds to lat_bounds. Please double check results.\n",
      "  warnings.warn(\n",
      "/srv/conda/envs/notebook/lib/python3.12/site-packages/xmip/preprocessing.py:96: UserWarning: ScenarioMIP.MIROC.MIROC6.ssp585.r13i1p1f1.Omon.gn.none.zos:While renaming to target `lon_bounds`, more than one candidate was found ['x_bnds', 'vertices_longitude']. Renaming x_bnds to lon_bounds. Please double check results.\n",
      "  warnings.warn(\n",
      "/srv/conda/envs/notebook/lib/python3.12/site-packages/xmip/preprocessing.py:96: UserWarning: ScenarioMIP.MIROC.MIROC6.ssp585.r13i1p1f1.Omon.gn.none.zos:While renaming to target `lat_bounds`, more than one candidate was found ['y_bnds', 'vertices_latitude']. Renaming y_bnds to lat_bounds. Please double check results.\n",
      "  warnings.warn(\n",
      "/srv/conda/envs/notebook/lib/python3.12/site-packages/xmip/preprocessing.py:96: UserWarning: CMIP.MIROC.MIROC6.historical.r3i1p1f1.Omon.gn.none.zos:While renaming to target `lon_bounds`, more than one candidate was found ['x_bnds', 'vertices_longitude']. Renaming x_bnds to lon_bounds. Please double check results.\n",
      "  warnings.warn(\n",
      "/srv/conda/envs/notebook/lib/python3.12/site-packages/xmip/preprocessing.py:96: UserWarning: CMIP.MIROC.MIROC6.historical.r3i1p1f1.Omon.gn.none.zos:While renaming to target `lat_bounds`, more than one candidate was found ['y_bnds', 'vertices_latitude']. Renaming y_bnds to lat_bounds. Please double check results.\n",
      "  warnings.warn(\n",
      "/srv/conda/envs/notebook/lib/python3.12/site-packages/xmip/preprocessing.py:96: UserWarning: CMIP.MIROC.MIROC6.historical.r21i1p1f1.Omon.gn.none.zos:While renaming to target `lon_bounds`, more than one candidate was found ['x_bnds', 'vertices_longitude']. Renaming x_bnds to lon_bounds. Please double check results.\n",
      "  warnings.warn(\n",
      "/srv/conda/envs/notebook/lib/python3.12/site-packages/xmip/preprocessing.py:96: UserWarning: CMIP.MIROC.MIROC6.historical.r21i1p1f1.Omon.gn.none.zos:While renaming to target `lat_bounds`, more than one candidate was found ['y_bnds', 'vertices_latitude']. Renaming y_bnds to lat_bounds. Please double check results.\n",
      "  warnings.warn(\n",
      "/srv/conda/envs/notebook/lib/python3.12/site-packages/xmip/preprocessing.py:96: UserWarning: CMIP.MIROC.MIROC6.historical.r36i1p1f1.Omon.gn.none.zos:While renaming to target `lon_bounds`, more than one candidate was found ['x_bnds', 'vertices_longitude']. Renaming x_bnds to lon_bounds. Please double check results.\n",
      "  warnings.warn(\n",
      "/srv/conda/envs/notebook/lib/python3.12/site-packages/xmip/preprocessing.py:96: UserWarning: CMIP.MIROC.MIROC6.historical.r36i1p1f1.Omon.gn.none.zos:While renaming to target `lat_bounds`, more than one candidate was found ['y_bnds', 'vertices_latitude']. Renaming y_bnds to lat_bounds. Please double check results.\n",
      "  warnings.warn(\n",
      "/srv/conda/envs/notebook/lib/python3.12/site-packages/xmip/preprocessing.py:96: UserWarning: CMIP.MIROC.MIROC6.historical.r34i1p1f1.Omon.gn.none.zos:While renaming to target `lon_bounds`, more than one candidate was found ['x_bnds', 'vertices_longitude']. Renaming x_bnds to lon_bounds. Please double check results.\n",
      "  warnings.warn(\n",
      "/srv/conda/envs/notebook/lib/python3.12/site-packages/xmip/preprocessing.py:96: UserWarning: CMIP.MIROC.MIROC6.historical.r34i1p1f1.Omon.gn.none.zos:While renaming to target `lat_bounds`, more than one candidate was found ['y_bnds', 'vertices_latitude']. Renaming y_bnds to lat_bounds. Please double check results.\n",
      "  warnings.warn(\n",
      "/srv/conda/envs/notebook/lib/python3.12/site-packages/xmip/preprocessing.py:96: UserWarning: ScenarioMIP.MIROC.MIROC6.ssp585.r50i1p1f1.Omon.gn.none.zos:While renaming to target `lon_bounds`, more than one candidate was found ['x_bnds', 'vertices_longitude']. Renaming x_bnds to lon_bounds. Please double check results.\n",
      "  warnings.warn(\n",
      "/srv/conda/envs/notebook/lib/python3.12/site-packages/xmip/preprocessing.py:96: UserWarning: ScenarioMIP.MIROC.MIROC6.ssp585.r50i1p1f1.Omon.gn.none.zos:While renaming to target `lat_bounds`, more than one candidate was found ['y_bnds', 'vertices_latitude']. Renaming y_bnds to lat_bounds. Please double check results.\n",
      "  warnings.warn(\n",
      "/srv/conda/envs/notebook/lib/python3.12/site-packages/xmip/preprocessing.py:96: UserWarning: CMIP.MIROC.MIROC6.historical.r26i1p1f1.Omon.gn.none.zos:While renaming to target `lon_bounds`, more than one candidate was found ['x_bnds', 'vertices_longitude']. Renaming x_bnds to lon_bounds. Please double check results.\n",
      "  warnings.warn(\n",
      "/srv/conda/envs/notebook/lib/python3.12/site-packages/xmip/preprocessing.py:96: UserWarning: CMIP.MIROC.MIROC6.historical.r26i1p1f1.Omon.gn.none.zos:While renaming to target `lat_bounds`, more than one candidate was found ['y_bnds', 'vertices_latitude']. Renaming y_bnds to lat_bounds. Please double check results.\n",
      "  warnings.warn(\n",
      "/srv/conda/envs/notebook/lib/python3.12/site-packages/xmip/preprocessing.py:96: UserWarning: CMIP.MIROC.MIROC6.historical.r29i1p1f1.Omon.gn.none.zos:While renaming to target `lon_bounds`, more than one candidate was found ['x_bnds', 'vertices_longitude']. Renaming x_bnds to lon_bounds. Please double check results.\n",
      "  warnings.warn(\n",
      "/srv/conda/envs/notebook/lib/python3.12/site-packages/xmip/preprocessing.py:96: UserWarning: CMIP.MIROC.MIROC6.historical.r29i1p1f1.Omon.gn.none.zos:While renaming to target `lat_bounds`, more than one candidate was found ['y_bnds', 'vertices_latitude']. Renaming y_bnds to lat_bounds. Please double check results.\n",
      "  warnings.warn(\n",
      "/srv/conda/envs/notebook/lib/python3.12/site-packages/xmip/preprocessing.py:96: UserWarning: ScenarioMIP.MIROC.MIROC6.ssp585.r19i1p1f1.Omon.gn.none.zos:While renaming to target `lon_bounds`, more than one candidate was found ['x_bnds', 'vertices_longitude']. Renaming x_bnds to lon_bounds. Please double check results.\n",
      "  warnings.warn(\n",
      "/srv/conda/envs/notebook/lib/python3.12/site-packages/xmip/preprocessing.py:96: UserWarning: ScenarioMIP.MIROC.MIROC6.ssp585.r19i1p1f1.Omon.gn.none.zos:While renaming to target `lat_bounds`, more than one candidate was found ['y_bnds', 'vertices_latitude']. Renaming y_bnds to lat_bounds. Please double check results.\n",
      "  warnings.warn(\n",
      "/srv/conda/envs/notebook/lib/python3.12/site-packages/xmip/preprocessing.py:96: UserWarning: ScenarioMIP.MIROC.MIROC6.ssp585.r40i1p1f1.Omon.gn.none.zos:While renaming to target `lon_bounds`, more than one candidate was found ['x_bnds', 'vertices_longitude']. Renaming x_bnds to lon_bounds. Please double check results.\n",
      "  warnings.warn(\n",
      "/srv/conda/envs/notebook/lib/python3.12/site-packages/xmip/preprocessing.py:96: UserWarning: ScenarioMIP.MIROC.MIROC6.ssp585.r40i1p1f1.Omon.gn.none.zos:While renaming to target `lat_bounds`, more than one candidate was found ['y_bnds', 'vertices_latitude']. Renaming y_bnds to lat_bounds. Please double check results.\n",
      "  warnings.warn(\n",
      "/srv/conda/envs/notebook/lib/python3.12/site-packages/xmip/preprocessing.py:96: UserWarning: ScenarioMIP.MIROC.MIROC6.ssp585.r34i1p1f1.Omon.gn.none.zos:While renaming to target `lon_bounds`, more than one candidate was found ['x_bnds', 'vertices_longitude']. Renaming x_bnds to lon_bounds. Please double check results.\n",
      "  warnings.warn(\n",
      "/srv/conda/envs/notebook/lib/python3.12/site-packages/xmip/preprocessing.py:96: UserWarning: ScenarioMIP.MIROC.MIROC6.ssp585.r34i1p1f1.Omon.gn.none.zos:While renaming to target `lat_bounds`, more than one candidate was found ['y_bnds', 'vertices_latitude']. Renaming y_bnds to lat_bounds. Please double check results.\n",
      "  warnings.warn(\n",
      "/srv/conda/envs/notebook/lib/python3.12/site-packages/xmip/preprocessing.py:96: UserWarning: CMIP.MIROC.MIROC6.historical.r40i1p1f1.Omon.gn.none.zos:While renaming to target `lon_bounds`, more than one candidate was found ['x_bnds', 'vertices_longitude']. Renaming x_bnds to lon_bounds. Please double check results.\n",
      "  warnings.warn(\n",
      "/srv/conda/envs/notebook/lib/python3.12/site-packages/xmip/preprocessing.py:96: UserWarning: CMIP.MIROC.MIROC6.historical.r40i1p1f1.Omon.gn.none.zos:While renaming to target `lat_bounds`, more than one candidate was found ['y_bnds', 'vertices_latitude']. Renaming y_bnds to lat_bounds. Please double check results.\n",
      "  warnings.warn(\n",
      "/srv/conda/envs/notebook/lib/python3.12/site-packages/xmip/preprocessing.py:96: UserWarning: CMIP.MIROC.MIROC6.historical.r22i1p1f1.Omon.gn.none.zos:While renaming to target `lon_bounds`, more than one candidate was found ['x_bnds', 'vertices_longitude']. Renaming x_bnds to lon_bounds. Please double check results.\n",
      "  warnings.warn(\n",
      "/srv/conda/envs/notebook/lib/python3.12/site-packages/xmip/preprocessing.py:96: UserWarning: CMIP.MIROC.MIROC6.historical.r22i1p1f1.Omon.gn.none.zos:While renaming to target `lat_bounds`, more than one candidate was found ['y_bnds', 'vertices_latitude']. Renaming y_bnds to lat_bounds. Please double check results.\n",
      "  warnings.warn(\n",
      "/srv/conda/envs/notebook/lib/python3.12/site-packages/xmip/preprocessing.py:96: UserWarning: ScenarioMIP.MIROC.MIROC6.ssp585.r16i1p1f1.Omon.gn.none.zos:While renaming to target `lon_bounds`, more than one candidate was found ['x_bnds', 'vertices_longitude']. Renaming x_bnds to lon_bounds. Please double check results.\n",
      "  warnings.warn(\n",
      "/srv/conda/envs/notebook/lib/python3.12/site-packages/xmip/preprocessing.py:96: UserWarning: ScenarioMIP.MIROC.MIROC6.ssp585.r16i1p1f1.Omon.gn.none.zos:While renaming to target `lat_bounds`, more than one candidate was found ['y_bnds', 'vertices_latitude']. Renaming y_bnds to lat_bounds. Please double check results.\n",
      "  warnings.warn(\n",
      "/srv/conda/envs/notebook/lib/python3.12/site-packages/xmip/preprocessing.py:96: UserWarning: ScenarioMIP.MIROC.MIROC6.ssp585.r41i1p1f1.Omon.gn.none.zos:While renaming to target `lon_bounds`, more than one candidate was found ['x_bnds', 'vertices_longitude']. Renaming x_bnds to lon_bounds. Please double check results.\n",
      "  warnings.warn(\n",
      "/srv/conda/envs/notebook/lib/python3.12/site-packages/xmip/preprocessing.py:96: UserWarning: ScenarioMIP.MIROC.MIROC6.ssp585.r41i1p1f1.Omon.gn.none.zos:While renaming to target `lat_bounds`, more than one candidate was found ['y_bnds', 'vertices_latitude']. Renaming y_bnds to lat_bounds. Please double check results.\n",
      "  warnings.warn(\n",
      "/srv/conda/envs/notebook/lib/python3.12/site-packages/xmip/preprocessing.py:96: UserWarning: ScenarioMIP.MIROC.MIROC6.ssp585.r27i1p1f1.Omon.gn.none.zos:While renaming to target `lon_bounds`, more than one candidate was found ['x_bnds', 'vertices_longitude']. Renaming x_bnds to lon_bounds. Please double check results.\n",
      "  warnings.warn(\n",
      "/srv/conda/envs/notebook/lib/python3.12/site-packages/xmip/preprocessing.py:96: UserWarning: ScenarioMIP.MIROC.MIROC6.ssp585.r27i1p1f1.Omon.gn.none.zos:While renaming to target `lat_bounds`, more than one candidate was found ['y_bnds', 'vertices_latitude']. Renaming y_bnds to lat_bounds. Please double check results.\n",
      "  warnings.warn(\n",
      "/srv/conda/envs/notebook/lib/python3.12/site-packages/xmip/preprocessing.py:96: UserWarning: ScenarioMIP.MIROC.MIROC6.ssp585.r24i1p1f1.Omon.gn.none.zos:While renaming to target `lon_bounds`, more than one candidate was found ['x_bnds', 'vertices_longitude']. Renaming x_bnds to lon_bounds. Please double check results.\n",
      "  warnings.warn(\n",
      "/srv/conda/envs/notebook/lib/python3.12/site-packages/xmip/preprocessing.py:96: UserWarning: ScenarioMIP.MIROC.MIROC6.ssp585.r24i1p1f1.Omon.gn.none.zos:While renaming to target `lat_bounds`, more than one candidate was found ['y_bnds', 'vertices_latitude']. Renaming y_bnds to lat_bounds. Please double check results.\n",
      "  warnings.warn(\n",
      "/srv/conda/envs/notebook/lib/python3.12/site-packages/xmip/preprocessing.py:96: UserWarning: CMIP.MIROC.MIROC6.historical.r20i1p1f1.Omon.gn.none.zos:While renaming to target `lon_bounds`, more than one candidate was found ['x_bnds', 'vertices_longitude']. Renaming x_bnds to lon_bounds. Please double check results.\n",
      "  warnings.warn(\n",
      "/srv/conda/envs/notebook/lib/python3.12/site-packages/xmip/preprocessing.py:96: UserWarning: CMIP.MIROC.MIROC6.historical.r20i1p1f1.Omon.gn.none.zos:While renaming to target `lat_bounds`, more than one candidate was found ['y_bnds', 'vertices_latitude']. Renaming y_bnds to lat_bounds. Please double check results.\n",
      "  warnings.warn(\n",
      "/srv/conda/envs/notebook/lib/python3.12/site-packages/xmip/preprocessing.py:96: UserWarning: CMIP.MIROC.MIROC6.historical.r38i1p1f1.Omon.gn.none.zos:While renaming to target `lon_bounds`, more than one candidate was found ['x_bnds', 'vertices_longitude']. Renaming x_bnds to lon_bounds. Please double check results.\n",
      "  warnings.warn(\n",
      "/srv/conda/envs/notebook/lib/python3.12/site-packages/xmip/preprocessing.py:96: UserWarning: CMIP.MIROC.MIROC6.historical.r38i1p1f1.Omon.gn.none.zos:While renaming to target `lat_bounds`, more than one candidate was found ['y_bnds', 'vertices_latitude']. Renaming y_bnds to lat_bounds. Please double check results.\n",
      "  warnings.warn(\n",
      "/srv/conda/envs/notebook/lib/python3.12/site-packages/xmip/preprocessing.py:96: UserWarning: ScenarioMIP.MIROC.MIROC6.ssp585.r8i1p1f1.Omon.gn.none.zos:While renaming to target `lon_bounds`, more than one candidate was found ['x_bnds', 'vertices_longitude']. Renaming x_bnds to lon_bounds. Please double check results.\n",
      "  warnings.warn(\n",
      "/srv/conda/envs/notebook/lib/python3.12/site-packages/xmip/preprocessing.py:96: UserWarning: ScenarioMIP.MIROC.MIROC6.ssp585.r8i1p1f1.Omon.gn.none.zos:While renaming to target `lat_bounds`, more than one candidate was found ['y_bnds', 'vertices_latitude']. Renaming y_bnds to lat_bounds. Please double check results.\n",
      "  warnings.warn(\n",
      "/srv/conda/envs/notebook/lib/python3.12/site-packages/xmip/preprocessing.py:96: UserWarning: ScenarioMIP.MIROC.MIROC6.ssp585.r43i1p1f1.Omon.gn.none.zos:While renaming to target `lon_bounds`, more than one candidate was found ['x_bnds', 'vertices_longitude']. Renaming x_bnds to lon_bounds. Please double check results.\n",
      "  warnings.warn(\n",
      "/srv/conda/envs/notebook/lib/python3.12/site-packages/xmip/preprocessing.py:96: UserWarning: ScenarioMIP.MIROC.MIROC6.ssp585.r43i1p1f1.Omon.gn.none.zos:While renaming to target `lat_bounds`, more than one candidate was found ['y_bnds', 'vertices_latitude']. Renaming y_bnds to lat_bounds. Please double check results.\n",
      "  warnings.warn(\n",
      "/srv/conda/envs/notebook/lib/python3.12/site-packages/xmip/preprocessing.py:96: UserWarning: ScenarioMIP.MIROC.MIROC6.ssp585.r7i1p1f1.Omon.gn.none.zos:While renaming to target `lon_bounds`, more than one candidate was found ['x_bnds', 'vertices_longitude']. Renaming x_bnds to lon_bounds. Please double check results.\n",
      "  warnings.warn(\n",
      "/srv/conda/envs/notebook/lib/python3.12/site-packages/xmip/preprocessing.py:96: UserWarning: ScenarioMIP.MIROC.MIROC6.ssp585.r7i1p1f1.Omon.gn.none.zos:While renaming to target `lat_bounds`, more than one candidate was found ['y_bnds', 'vertices_latitude']. Renaming y_bnds to lat_bounds. Please double check results.\n",
      "  warnings.warn(\n",
      "/srv/conda/envs/notebook/lib/python3.12/site-packages/xmip/preprocessing.py:96: UserWarning: ScenarioMIP.MIROC.MIROC6.ssp585.r36i1p1f1.Omon.gn.none.zos:While renaming to target `lon_bounds`, more than one candidate was found ['x_bnds', 'vertices_longitude']. Renaming x_bnds to lon_bounds. Please double check results.\n",
      "  warnings.warn(\n",
      "/srv/conda/envs/notebook/lib/python3.12/site-packages/xmip/preprocessing.py:96: UserWarning: ScenarioMIP.MIROC.MIROC6.ssp585.r36i1p1f1.Omon.gn.none.zos:While renaming to target `lat_bounds`, more than one candidate was found ['y_bnds', 'vertices_latitude']. Renaming y_bnds to lat_bounds. Please double check results.\n",
      "  warnings.warn(\n",
      "/srv/conda/envs/notebook/lib/python3.12/site-packages/xmip/preprocessing.py:96: UserWarning: ScenarioMIP.MIROC.MIROC6.ssp585.r12i1p1f1.Omon.gn.none.zos:While renaming to target `lon_bounds`, more than one candidate was found ['x_bnds', 'vertices_longitude']. Renaming x_bnds to lon_bounds. Please double check results.\n",
      "  warnings.warn(\n",
      "/srv/conda/envs/notebook/lib/python3.12/site-packages/xmip/preprocessing.py:96: UserWarning: ScenarioMIP.MIROC.MIROC6.ssp585.r12i1p1f1.Omon.gn.none.zos:While renaming to target `lat_bounds`, more than one candidate was found ['y_bnds', 'vertices_latitude']. Renaming y_bnds to lat_bounds. Please double check results.\n",
      "  warnings.warn(\n",
      "/srv/conda/envs/notebook/lib/python3.12/site-packages/xmip/preprocessing.py:96: UserWarning: CMIP.MIROC.MIROC6.historical.r37i1p1f1.Omon.gn.none.zos:While renaming to target `lon_bounds`, more than one candidate was found ['x_bnds', 'vertices_longitude']. Renaming x_bnds to lon_bounds. Please double check results.\n",
      "  warnings.warn(\n",
      "/srv/conda/envs/notebook/lib/python3.12/site-packages/xmip/preprocessing.py:96: UserWarning: CMIP.MIROC.MIROC6.historical.r37i1p1f1.Omon.gn.none.zos:While renaming to target `lat_bounds`, more than one candidate was found ['y_bnds', 'vertices_latitude']. Renaming y_bnds to lat_bounds. Please double check results.\n",
      "  warnings.warn(\n",
      "/srv/conda/envs/notebook/lib/python3.12/site-packages/xmip/preprocessing.py:96: UserWarning: CMIP.MIROC.MIROC6.historical.r18i1p1f1.Omon.gn.none.zos:While renaming to target `lon_bounds`, more than one candidate was found ['x_bnds', 'vertices_longitude']. Renaming x_bnds to lon_bounds. Please double check results.\n",
      "  warnings.warn(\n",
      "/srv/conda/envs/notebook/lib/python3.12/site-packages/xmip/preprocessing.py:96: UserWarning: CMIP.MIROC.MIROC6.historical.r18i1p1f1.Omon.gn.none.zos:While renaming to target `lat_bounds`, more than one candidate was found ['y_bnds', 'vertices_latitude']. Renaming y_bnds to lat_bounds. Please double check results.\n",
      "  warnings.warn(\n",
      "/srv/conda/envs/notebook/lib/python3.12/site-packages/xmip/preprocessing.py:96: UserWarning: CMIP.MIROC.MIROC6.historical.r2i1p1f1.Omon.gn.none.zos:While renaming to target `lon_bounds`, more than one candidate was found ['x_bnds', 'vertices_longitude']. Renaming x_bnds to lon_bounds. Please double check results.\n",
      "  warnings.warn(\n",
      "/srv/conda/envs/notebook/lib/python3.12/site-packages/xmip/preprocessing.py:96: UserWarning: CMIP.MIROC.MIROC6.historical.r2i1p1f1.Omon.gn.none.zos:While renaming to target `lat_bounds`, more than one candidate was found ['y_bnds', 'vertices_latitude']. Renaming y_bnds to lat_bounds. Please double check results.\n",
      "  warnings.warn(\n",
      "/srv/conda/envs/notebook/lib/python3.12/site-packages/xmip/preprocessing.py:96: UserWarning: CMIP.MIROC.MIROC6.historical.r15i1p1f1.Omon.gn.none.zos:While renaming to target `lon_bounds`, more than one candidate was found ['x_bnds', 'vertices_longitude']. Renaming x_bnds to lon_bounds. Please double check results.\n",
      "  warnings.warn(\n",
      "/srv/conda/envs/notebook/lib/python3.12/site-packages/xmip/preprocessing.py:96: UserWarning: CMIP.MIROC.MIROC6.historical.r15i1p1f1.Omon.gn.none.zos:While renaming to target `lat_bounds`, more than one candidate was found ['y_bnds', 'vertices_latitude']. Renaming y_bnds to lat_bounds. Please double check results.\n",
      "  warnings.warn(\n",
      "/srv/conda/envs/notebook/lib/python3.12/site-packages/xmip/preprocessing.py:96: UserWarning: CMIP.MIROC.MIROC6.historical.r49i1p1f1.Omon.gn.none.zos:While renaming to target `lon_bounds`, more than one candidate was found ['x_bnds', 'vertices_longitude']. Renaming x_bnds to lon_bounds. Please double check results.\n",
      "  warnings.warn(\n",
      "/srv/conda/envs/notebook/lib/python3.12/site-packages/xmip/preprocessing.py:96: UserWarning: CMIP.MIROC.MIROC6.historical.r49i1p1f1.Omon.gn.none.zos:While renaming to target `lat_bounds`, more than one candidate was found ['y_bnds', 'vertices_latitude']. Renaming y_bnds to lat_bounds. Please double check results.\n",
      "  warnings.warn(\n",
      "/srv/conda/envs/notebook/lib/python3.12/site-packages/xmip/preprocessing.py:96: UserWarning: CMIP.MIROC.MIROC6.historical.r7i1p1f1.Omon.gn.none.zos:While renaming to target `lon_bounds`, more than one candidate was found ['x_bnds', 'vertices_longitude']. Renaming x_bnds to lon_bounds. Please double check results.\n",
      "  warnings.warn(\n",
      "/srv/conda/envs/notebook/lib/python3.12/site-packages/xmip/preprocessing.py:96: UserWarning: CMIP.MIROC.MIROC6.historical.r7i1p1f1.Omon.gn.none.zos:While renaming to target `lat_bounds`, more than one candidate was found ['y_bnds', 'vertices_latitude']. Renaming y_bnds to lat_bounds. Please double check results.\n",
      "  warnings.warn(\n",
      "/srv/conda/envs/notebook/lib/python3.12/site-packages/xmip/preprocessing.py:96: UserWarning: CMIP.MIROC.MIROC6.historical.r44i1p1f1.Omon.gn.none.zos:While renaming to target `lon_bounds`, more than one candidate was found ['x_bnds', 'vertices_longitude']. Renaming x_bnds to lon_bounds. Please double check results.\n",
      "  warnings.warn(\n",
      "/srv/conda/envs/notebook/lib/python3.12/site-packages/xmip/preprocessing.py:96: UserWarning: CMIP.MIROC.MIROC6.historical.r44i1p1f1.Omon.gn.none.zos:While renaming to target `lat_bounds`, more than one candidate was found ['y_bnds', 'vertices_latitude']. Renaming y_bnds to lat_bounds. Please double check results.\n",
      "  warnings.warn(\n",
      "/srv/conda/envs/notebook/lib/python3.12/site-packages/xmip/preprocessing.py:96: UserWarning: ScenarioMIP.MIROC.MIROC6.ssp585.r26i1p1f1.Omon.gn.none.zos:While renaming to target `lon_bounds`, more than one candidate was found ['x_bnds', 'vertices_longitude']. Renaming x_bnds to lon_bounds. Please double check results.\n",
      "  warnings.warn(\n",
      "/srv/conda/envs/notebook/lib/python3.12/site-packages/xmip/preprocessing.py:96: UserWarning: ScenarioMIP.MIROC.MIROC6.ssp585.r26i1p1f1.Omon.gn.none.zos:While renaming to target `lat_bounds`, more than one candidate was found ['y_bnds', 'vertices_latitude']. Renaming y_bnds to lat_bounds. Please double check results.\n",
      "  warnings.warn(\n",
      "/srv/conda/envs/notebook/lib/python3.12/site-packages/xmip/preprocessing.py:96: UserWarning: ScenarioMIP.MIROC.MIROC6.ssp585.r31i1p1f1.Omon.gn.none.zos:While renaming to target `lon_bounds`, more than one candidate was found ['x_bnds', 'vertices_longitude']. Renaming x_bnds to lon_bounds. Please double check results.\n",
      "  warnings.warn(\n",
      "/srv/conda/envs/notebook/lib/python3.12/site-packages/xmip/preprocessing.py:96: UserWarning: ScenarioMIP.MIROC.MIROC6.ssp585.r31i1p1f1.Omon.gn.none.zos:While renaming to target `lat_bounds`, more than one candidate was found ['y_bnds', 'vertices_latitude']. Renaming y_bnds to lat_bounds. Please double check results.\n",
      "  warnings.warn(\n",
      "/srv/conda/envs/notebook/lib/python3.12/site-packages/xmip/preprocessing.py:96: UserWarning: CMIP.MIROC.MIROC6.historical.r31i1p1f1.Omon.gn.none.zos:While renaming to target `lon_bounds`, more than one candidate was found ['x_bnds', 'vertices_longitude']. Renaming x_bnds to lon_bounds. Please double check results.\n",
      "  warnings.warn(\n",
      "/srv/conda/envs/notebook/lib/python3.12/site-packages/xmip/preprocessing.py:96: UserWarning: CMIP.MIROC.MIROC6.historical.r31i1p1f1.Omon.gn.none.zos:While renaming to target `lat_bounds`, more than one candidate was found ['y_bnds', 'vertices_latitude']. Renaming y_bnds to lat_bounds. Please double check results.\n",
      "  warnings.warn(\n",
      "/srv/conda/envs/notebook/lib/python3.12/site-packages/xmip/preprocessing.py:96: UserWarning: ScenarioMIP.MRI.MRI-ESM2-0.ssp585.r1i1p1f1.Omon.gn.none.zos:While renaming to target `lon_bounds`, more than one candidate was found ['x_bnds', 'vertices_longitude']. Renaming x_bnds to lon_bounds. Please double check results.\n",
      "  warnings.warn(\n",
      "/srv/conda/envs/notebook/lib/python3.12/site-packages/xmip/preprocessing.py:96: UserWarning: ScenarioMIP.MRI.MRI-ESM2-0.ssp585.r1i1p1f1.Omon.gn.none.zos:While renaming to target `lat_bounds`, more than one candidate was found ['y_bnds', 'vertices_latitude']. Renaming y_bnds to lat_bounds. Please double check results.\n",
      "  warnings.warn(\n",
      "/srv/conda/envs/notebook/lib/python3.12/site-packages/xmip/preprocessing.py:96: UserWarning: CMIP.MIROC.MIROC6.historical.r8i1p1f1.Omon.gn.none.zos:While renaming to target `lon_bounds`, more than one candidate was found ['x_bnds', 'vertices_longitude']. Renaming x_bnds to lon_bounds. Please double check results.\n",
      "  warnings.warn(\n",
      "/srv/conda/envs/notebook/lib/python3.12/site-packages/xmip/preprocessing.py:96: UserWarning: CMIP.MIROC.MIROC6.historical.r8i1p1f1.Omon.gn.none.zos:While renaming to target `lat_bounds`, more than one candidate was found ['y_bnds', 'vertices_latitude']. Renaming y_bnds to lat_bounds. Please double check results.\n",
      "  warnings.warn(\n",
      "/srv/conda/envs/notebook/lib/python3.12/site-packages/xmip/preprocessing.py:96: UserWarning: ScenarioMIP.MIROC.MIROC6.ssp585.r15i1p1f1.Omon.gn.none.zos:While renaming to target `lon_bounds`, more than one candidate was found ['x_bnds', 'vertices_longitude']. Renaming x_bnds to lon_bounds. Please double check results.\n",
      "  warnings.warn(\n",
      "/srv/conda/envs/notebook/lib/python3.12/site-packages/xmip/preprocessing.py:96: UserWarning: CMIP.MIROC.MIROC6.historical.r13i1p1f1.Omon.gn.none.zos:While renaming to target `lon_bounds`, more than one candidate was found ['x_bnds', 'vertices_longitude']. Renaming x_bnds to lon_bounds. Please double check results.\n",
      "  warnings.warn(\n",
      "/srv/conda/envs/notebook/lib/python3.12/site-packages/xmip/preprocessing.py:96: UserWarning: CMIP.MIROC.MIROC6.historical.r13i1p1f1.Omon.gn.none.zos:While renaming to target `lat_bounds`, more than one candidate was found ['y_bnds', 'vertices_latitude']. Renaming y_bnds to lat_bounds. Please double check results.\n",
      "  warnings.warn(\n",
      "/srv/conda/envs/notebook/lib/python3.12/site-packages/xmip/preprocessing.py:96: UserWarning: ScenarioMIP.MIROC.MIROC6.ssp585.r15i1p1f1.Omon.gn.none.zos:While renaming to target `lat_bounds`, more than one candidate was found ['y_bnds', 'vertices_latitude']. Renaming y_bnds to lat_bounds. Please double check results.\n",
      "  warnings.warn(\n",
      "/srv/conda/envs/notebook/lib/python3.12/site-packages/xmip/preprocessing.py:96: UserWarning: ScenarioMIP.MIROC.MIROC6.ssp585.r46i1p1f1.Omon.gn.none.zos:While renaming to target `lon_bounds`, more than one candidate was found ['x_bnds', 'vertices_longitude']. Renaming x_bnds to lon_bounds. Please double check results.\n",
      "  warnings.warn(\n",
      "/srv/conda/envs/notebook/lib/python3.12/site-packages/xmip/preprocessing.py:96: UserWarning: ScenarioMIP.MIROC.MIROC6.ssp585.r46i1p1f1.Omon.gn.none.zos:While renaming to target `lat_bounds`, more than one candidate was found ['y_bnds', 'vertices_latitude']. Renaming y_bnds to lat_bounds. Please double check results.\n",
      "  warnings.warn(\n",
      "/srv/conda/envs/notebook/lib/python3.12/site-packages/xmip/preprocessing.py:96: UserWarning: ScenarioMIP.MIROC.MIROC6.ssp585.r28i1p1f1.Omon.gn.none.zos:While renaming to target `lon_bounds`, more than one candidate was found ['x_bnds', 'vertices_longitude']. Renaming x_bnds to lon_bounds. Please double check results.\n",
      "  warnings.warn(\n",
      "/srv/conda/envs/notebook/lib/python3.12/site-packages/xmip/preprocessing.py:96: UserWarning: ScenarioMIP.MIROC.MIROC6.ssp585.r28i1p1f1.Omon.gn.none.zos:While renaming to target `lat_bounds`, more than one candidate was found ['y_bnds', 'vertices_latitude']. Renaming y_bnds to lat_bounds. Please double check results.\n",
      "  warnings.warn(\n",
      "/srv/conda/envs/notebook/lib/python3.12/site-packages/xmip/preprocessing.py:96: UserWarning: ScenarioMIP.MIROC.MIROC6.ssp585.r35i1p1f1.Omon.gn.none.zos:While renaming to target `lon_bounds`, more than one candidate was found ['x_bnds', 'vertices_longitude']. Renaming x_bnds to lon_bounds. Please double check results.\n",
      "  warnings.warn(\n",
      "/srv/conda/envs/notebook/lib/python3.12/site-packages/xmip/preprocessing.py:96: UserWarning: ScenarioMIP.MIROC.MIROC6.ssp585.r35i1p1f1.Omon.gn.none.zos:While renaming to target `lat_bounds`, more than one candidate was found ['y_bnds', 'vertices_latitude']. Renaming y_bnds to lat_bounds. Please double check results.\n",
      "  warnings.warn(\n",
      "/srv/conda/envs/notebook/lib/python3.12/site-packages/xmip/preprocessing.py:96: UserWarning: CMIP.MIROC.MIROC6.historical.r24i1p1f1.Omon.gn.none.zos:While renaming to target `lon_bounds`, more than one candidate was found ['x_bnds', 'vertices_longitude']. Renaming x_bnds to lon_bounds. Please double check results.\n",
      "  warnings.warn(\n",
      "/srv/conda/envs/notebook/lib/python3.12/site-packages/xmip/preprocessing.py:96: UserWarning: CMIP.MIROC.MIROC6.historical.r24i1p1f1.Omon.gn.none.zos:While renaming to target `lat_bounds`, more than one candidate was found ['y_bnds', 'vertices_latitude']. Renaming y_bnds to lat_bounds. Please double check results.\n",
      "  warnings.warn(\n",
      "/srv/conda/envs/notebook/lib/python3.12/site-packages/xmip/preprocessing.py:96: UserWarning: CMIP.MIROC.MIROC6.historical.r14i1p1f1.Omon.gn.none.zos:While renaming to target `lon_bounds`, more than one candidate was found ['x_bnds', 'vertices_longitude']. Renaming x_bnds to lon_bounds. Please double check results.\n",
      "  warnings.warn(\n",
      "/srv/conda/envs/notebook/lib/python3.12/site-packages/xmip/preprocessing.py:96: UserWarning: CMIP.MIROC.MIROC6.historical.r14i1p1f1.Omon.gn.none.zos:While renaming to target `lat_bounds`, more than one candidate was found ['y_bnds', 'vertices_latitude']. Renaming y_bnds to lat_bounds. Please double check results.\n",
      "  warnings.warn(\n",
      "/srv/conda/envs/notebook/lib/python3.12/site-packages/xmip/preprocessing.py:96: UserWarning: ScenarioMIP.MIROC.MIROC6.ssp585.r1i1p1f1.Omon.gn.none.zos:While renaming to target `lon_bounds`, more than one candidate was found ['x_bnds', 'vertices_longitude']. Renaming x_bnds to lon_bounds. Please double check results.\n",
      "  warnings.warn(\n",
      "/srv/conda/envs/notebook/lib/python3.12/site-packages/xmip/preprocessing.py:96: UserWarning: ScenarioMIP.MIROC.MIROC6.ssp585.r1i1p1f1.Omon.gn.none.zos:While renaming to target `lat_bounds`, more than one candidate was found ['y_bnds', 'vertices_latitude']. Renaming y_bnds to lat_bounds. Please double check results.\n",
      "  warnings.warn(\n",
      "/srv/conda/envs/notebook/lib/python3.12/site-packages/xmip/preprocessing.py:96: UserWarning: ScenarioMIP.MIROC.MIROC6.ssp585.r25i1p1f1.Omon.gn.none.zos:While renaming to target `lon_bounds`, more than one candidate was found ['x_bnds', 'vertices_longitude']. Renaming x_bnds to lon_bounds. Please double check results.\n",
      "  warnings.warn(\n",
      "/srv/conda/envs/notebook/lib/python3.12/site-packages/xmip/preprocessing.py:96: UserWarning: ScenarioMIP.MIROC.MIROC6.ssp585.r25i1p1f1.Omon.gn.none.zos:While renaming to target `lat_bounds`, more than one candidate was found ['y_bnds', 'vertices_latitude']. Renaming y_bnds to lat_bounds. Please double check results.\n",
      "  warnings.warn(\n",
      "/srv/conda/envs/notebook/lib/python3.12/site-packages/xmip/preprocessing.py:96: UserWarning: CMIP.MIROC.MIROC6.historical.r9i1p1f1.Omon.gn.none.zos:While renaming to target `lon_bounds`, more than one candidate was found ['x_bnds', 'vertices_longitude']. Renaming x_bnds to lon_bounds. Please double check results.\n",
      "  warnings.warn(\n",
      "/srv/conda/envs/notebook/lib/python3.12/site-packages/xmip/preprocessing.py:96: UserWarning: CMIP.MIROC.MIROC6.historical.r9i1p1f1.Omon.gn.none.zos:While renaming to target `lat_bounds`, more than one candidate was found ['y_bnds', 'vertices_latitude']. Renaming y_bnds to lat_bounds. Please double check results.\n",
      "  warnings.warn(\n",
      "/srv/conda/envs/notebook/lib/python3.12/site-packages/xmip/preprocessing.py:96: UserWarning: ScenarioMIP.MIROC.MIROC6.ssp585.r39i1p1f1.Omon.gn.none.zos:While renaming to target `lon_bounds`, more than one candidate was found ['x_bnds', 'vertices_longitude']. Renaming x_bnds to lon_bounds. Please double check results.\n",
      "  warnings.warn(\n",
      "/srv/conda/envs/notebook/lib/python3.12/site-packages/xmip/preprocessing.py:96: UserWarning: ScenarioMIP.MIROC.MIROC6.ssp585.r39i1p1f1.Omon.gn.none.zos:While renaming to target `lat_bounds`, more than one candidate was found ['y_bnds', 'vertices_latitude']. Renaming y_bnds to lat_bounds. Please double check results.\n",
      "  warnings.warn(\n",
      "/srv/conda/envs/notebook/lib/python3.12/site-packages/xmip/preprocessing.py:96: UserWarning: ScenarioMIP.MIROC.MIROC6.ssp585.r38i1p1f1.Omon.gn.none.zos:While renaming to target `lon_bounds`, more than one candidate was found ['x_bnds', 'vertices_longitude']. Renaming x_bnds to lon_bounds. Please double check results.\n",
      "  warnings.warn(\n",
      "/srv/conda/envs/notebook/lib/python3.12/site-packages/xmip/preprocessing.py:96: UserWarning: ScenarioMIP.MIROC.MIROC6.ssp585.r38i1p1f1.Omon.gn.none.zos:While renaming to target `lat_bounds`, more than one candidate was found ['y_bnds', 'vertices_latitude']. Renaming y_bnds to lat_bounds. Please double check results.\n",
      "  warnings.warn(\n",
      "/srv/conda/envs/notebook/lib/python3.12/site-packages/xmip/preprocessing.py:96: UserWarning: CMIP.MIROC.MIROC6.historical.r47i1p1f1.Omon.gn.none.zos:While renaming to target `lon_bounds`, more than one candidate was found ['x_bnds', 'vertices_longitude']. Renaming x_bnds to lon_bounds. Please double check results.\n",
      "  warnings.warn(\n",
      "/srv/conda/envs/notebook/lib/python3.12/site-packages/xmip/preprocessing.py:96: UserWarning: CMIP.MIROC.MIROC6.historical.r47i1p1f1.Omon.gn.none.zos:While renaming to target `lat_bounds`, more than one candidate was found ['y_bnds', 'vertices_latitude']. Renaming y_bnds to lat_bounds. Please double check results.\n",
      "  warnings.warn(\n",
      "/srv/conda/envs/notebook/lib/python3.12/site-packages/xmip/preprocessing.py:96: UserWarning: CMIP.MIROC.MIROC6.historical.r19i1p1f1.Omon.gn.none.zos:While renaming to target `lon_bounds`, more than one candidate was found ['x_bnds', 'vertices_longitude']. Renaming x_bnds to lon_bounds. Please double check results.\n",
      "  warnings.warn(\n",
      "/srv/conda/envs/notebook/lib/python3.12/site-packages/xmip/preprocessing.py:96: UserWarning: CMIP.MIROC.MIROC6.historical.r19i1p1f1.Omon.gn.none.zos:While renaming to target `lat_bounds`, more than one candidate was found ['y_bnds', 'vertices_latitude']. Renaming y_bnds to lat_bounds. Please double check results.\n",
      "  warnings.warn(\n",
      "/srv/conda/envs/notebook/lib/python3.12/site-packages/xmip/preprocessing.py:96: UserWarning: ScenarioMIP.MIROC.MIROC6.ssp585.r22i1p1f1.Omon.gn.none.zos:While renaming to target `lon_bounds`, more than one candidate was found ['x_bnds', 'vertices_longitude']. Renaming x_bnds to lon_bounds. Please double check results.\n",
      "  warnings.warn(\n",
      "/srv/conda/envs/notebook/lib/python3.12/site-packages/xmip/preprocessing.py:96: UserWarning: ScenarioMIP.MIROC.MIROC6.ssp585.r22i1p1f1.Omon.gn.none.zos:While renaming to target `lat_bounds`, more than one candidate was found ['y_bnds', 'vertices_latitude']. Renaming y_bnds to lat_bounds. Please double check results.\n",
      "  warnings.warn(\n",
      "/srv/conda/envs/notebook/lib/python3.12/site-packages/xmip/preprocessing.py:96: UserWarning: ScenarioMIP.MIROC.MIROC6.ssp585.r45i1p1f1.Omon.gn.none.zos:While renaming to target `lon_bounds`, more than one candidate was found ['x_bnds', 'vertices_longitude']. Renaming x_bnds to lon_bounds. Please double check results.\n",
      "  warnings.warn(\n",
      "/srv/conda/envs/notebook/lib/python3.12/site-packages/xmip/preprocessing.py:96: UserWarning: ScenarioMIP.MIROC.MIROC6.ssp585.r45i1p1f1.Omon.gn.none.zos:While renaming to target `lat_bounds`, more than one candidate was found ['y_bnds', 'vertices_latitude']. Renaming y_bnds to lat_bounds. Please double check results.\n",
      "  warnings.warn(\n",
      "/srv/conda/envs/notebook/lib/python3.12/site-packages/xmip/preprocessing.py:96: UserWarning: CMIP.MIROC.MIROC6.historical.r23i1p1f1.Omon.gn.none.zos:While renaming to target `lon_bounds`, more than one candidate was found ['x_bnds', 'vertices_longitude']. Renaming x_bnds to lon_bounds. Please double check results.\n",
      "  warnings.warn(\n",
      "/srv/conda/envs/notebook/lib/python3.12/site-packages/xmip/preprocessing.py:96: UserWarning: CMIP.MIROC.MIROC6.historical.r23i1p1f1.Omon.gn.none.zos:While renaming to target `lat_bounds`, more than one candidate was found ['y_bnds', 'vertices_latitude']. Renaming y_bnds to lat_bounds. Please double check results.\n",
      "  warnings.warn(\n",
      "/srv/conda/envs/notebook/lib/python3.12/site-packages/xmip/preprocessing.py:96: UserWarning: ScenarioMIP.MIROC.MIROC6.ssp585.r32i1p1f1.Omon.gn.none.zos:While renaming to target `lon_bounds`, more than one candidate was found ['x_bnds', 'vertices_longitude']. Renaming x_bnds to lon_bounds. Please double check results.\n",
      "  warnings.warn(\n",
      "/srv/conda/envs/notebook/lib/python3.12/site-packages/xmip/preprocessing.py:96: UserWarning: ScenarioMIP.MIROC.MIROC6.ssp585.r32i1p1f1.Omon.gn.none.zos:While renaming to target `lat_bounds`, more than one candidate was found ['y_bnds', 'vertices_latitude']. Renaming y_bnds to lat_bounds. Please double check results.\n",
      "  warnings.warn(\n",
      "/srv/conda/envs/notebook/lib/python3.12/site-packages/xmip/preprocessing.py:96: UserWarning: ScenarioMIP.MIROC.MIROC6.ssp585.r33i1p1f1.Omon.gn.none.zos:While renaming to target `lon_bounds`, more than one candidate was found ['x_bnds', 'vertices_longitude']. Renaming x_bnds to lon_bounds. Please double check results.\n",
      "  warnings.warn(\n",
      "/srv/conda/envs/notebook/lib/python3.12/site-packages/xmip/preprocessing.py:96: UserWarning: ScenarioMIP.MIROC.MIROC6.ssp585.r33i1p1f1.Omon.gn.none.zos:While renaming to target `lat_bounds`, more than one candidate was found ['y_bnds', 'vertices_latitude']. Renaming y_bnds to lat_bounds. Please double check results.\n",
      "  warnings.warn(\n",
      "/srv/conda/envs/notebook/lib/python3.12/site-packages/xmip/preprocessing.py:96: UserWarning: ScenarioMIP.MIROC.MIROC6.ssp585.r49i1p1f1.Omon.gn.none.zos:While renaming to target `lon_bounds`, more than one candidate was found ['x_bnds', 'vertices_longitude']. Renaming x_bnds to lon_bounds. Please double check results.\n",
      "  warnings.warn(\n",
      "/srv/conda/envs/notebook/lib/python3.12/site-packages/xmip/preprocessing.py:96: UserWarning: ScenarioMIP.MIROC.MIROC6.ssp585.r49i1p1f1.Omon.gn.none.zos:While renaming to target `lat_bounds`, more than one candidate was found ['y_bnds', 'vertices_latitude']. Renaming y_bnds to lat_bounds. Please double check results.\n",
      "  warnings.warn(\n",
      "/srv/conda/envs/notebook/lib/python3.12/site-packages/xmip/preprocessing.py:96: UserWarning: ScenarioMIP.MIROC.MIROC6.ssp585.r11i1p1f1.Omon.gn.none.zos:While renaming to target `lon_bounds`, more than one candidate was found ['x_bnds', 'vertices_longitude']. Renaming x_bnds to lon_bounds. Please double check results.\n",
      "  warnings.warn(\n",
      "/srv/conda/envs/notebook/lib/python3.12/site-packages/xmip/preprocessing.py:96: UserWarning: ScenarioMIP.MIROC.MIROC6.ssp585.r11i1p1f1.Omon.gn.none.zos:While renaming to target `lat_bounds`, more than one candidate was found ['y_bnds', 'vertices_latitude']. Renaming y_bnds to lat_bounds. Please double check results.\n",
      "  warnings.warn(\n",
      "/srv/conda/envs/notebook/lib/python3.12/site-packages/xmip/preprocessing.py:96: UserWarning: ScenarioMIP.MIROC.MIROC6.ssp585.r4i1p1f1.Omon.gn.none.zos:While renaming to target `lon_bounds`, more than one candidate was found ['x_bnds', 'vertices_longitude']. Renaming x_bnds to lon_bounds. Please double check results.\n",
      "  warnings.warn(\n",
      "/srv/conda/envs/notebook/lib/python3.12/site-packages/xmip/preprocessing.py:96: UserWarning: ScenarioMIP.MIROC.MIROC6.ssp585.r4i1p1f1.Omon.gn.none.zos:While renaming to target `lat_bounds`, more than one candidate was found ['y_bnds', 'vertices_latitude']. Renaming y_bnds to lat_bounds. Please double check results.\n",
      "  warnings.warn(\n",
      "/srv/conda/envs/notebook/lib/python3.12/site-packages/xmip/preprocessing.py:96: UserWarning: ScenarioMIP.MIROC.MIROC6.ssp585.r21i1p1f1.Omon.gn.none.zos:While renaming to target `lon_bounds`, more than one candidate was found ['x_bnds', 'vertices_longitude']. Renaming x_bnds to lon_bounds. Please double check results.\n",
      "  warnings.warn(\n",
      "/srv/conda/envs/notebook/lib/python3.12/site-packages/xmip/preprocessing.py:96: UserWarning: ScenarioMIP.MIROC.MIROC6.ssp585.r21i1p1f1.Omon.gn.none.zos:While renaming to target `lat_bounds`, more than one candidate was found ['y_bnds', 'vertices_latitude']. Renaming y_bnds to lat_bounds. Please double check results.\n",
      "  warnings.warn(\n",
      "/srv/conda/envs/notebook/lib/python3.12/site-packages/xmip/preprocessing.py:96: UserWarning: ScenarioMIP.MIROC.MIROC6.ssp585.r9i1p1f1.Omon.gn.none.zos:While renaming to target `lon_bounds`, more than one candidate was found ['x_bnds', 'vertices_longitude']. Renaming x_bnds to lon_bounds. Please double check results.\n",
      "  warnings.warn(\n",
      "/srv/conda/envs/notebook/lib/python3.12/site-packages/xmip/preprocessing.py:96: UserWarning: ScenarioMIP.MIROC.MIROC6.ssp585.r9i1p1f1.Omon.gn.none.zos:While renaming to target `lat_bounds`, more than one candidate was found ['y_bnds', 'vertices_latitude']. Renaming y_bnds to lat_bounds. Please double check results.\n",
      "  warnings.warn(\n",
      "/srv/conda/envs/notebook/lib/python3.12/site-packages/xmip/preprocessing.py:96: UserWarning: ScenarioMIP.MIROC.MIROC6.ssp585.r44i1p1f1.Omon.gn.none.zos:While renaming to target `lon_bounds`, more than one candidate was found ['x_bnds', 'vertices_longitude']. Renaming x_bnds to lon_bounds. Please double check results.\n",
      "  warnings.warn(\n",
      "/srv/conda/envs/notebook/lib/python3.12/site-packages/xmip/preprocessing.py:96: UserWarning: ScenarioMIP.MIROC.MIROC6.ssp585.r44i1p1f1.Omon.gn.none.zos:While renaming to target `lat_bounds`, more than one candidate was found ['y_bnds', 'vertices_latitude']. Renaming y_bnds to lat_bounds. Please double check results.\n",
      "  warnings.warn(\n",
      "/srv/conda/envs/notebook/lib/python3.12/site-packages/xmip/preprocessing.py:96: UserWarning: CMIP.MIROC.MIROC6.historical.r27i1p1f1.Omon.gn.none.zos:While renaming to target `lon_bounds`, more than one candidate was found ['x_bnds', 'vertices_longitude']. Renaming x_bnds to lon_bounds. Please double check results.\n",
      "  warnings.warn(\n",
      "/srv/conda/envs/notebook/lib/python3.12/site-packages/xmip/preprocessing.py:96: UserWarning: CMIP.MIROC.MIROC6.historical.r27i1p1f1.Omon.gn.none.zos:While renaming to target `lat_bounds`, more than one candidate was found ['y_bnds', 'vertices_latitude']. Renaming y_bnds to lat_bounds. Please double check results.\n",
      "  warnings.warn(\n",
      "/srv/conda/envs/notebook/lib/python3.12/site-packages/xmip/preprocessing.py:96: UserWarning: CMIP.MIROC.MIROC6.historical.r30i1p1f1.Omon.gn.none.zos:While renaming to target `lon_bounds`, more than one candidate was found ['x_bnds', 'vertices_longitude']. Renaming x_bnds to lon_bounds. Please double check results.\n",
      "  warnings.warn(\n",
      "/srv/conda/envs/notebook/lib/python3.12/site-packages/xmip/preprocessing.py:96: UserWarning: CMIP.MIROC.MIROC6.historical.r30i1p1f1.Omon.gn.none.zos:While renaming to target `lat_bounds`, more than one candidate was found ['y_bnds', 'vertices_latitude']. Renaming y_bnds to lat_bounds. Please double check results.\n",
      "  warnings.warn(\n",
      "/srv/conda/envs/notebook/lib/python3.12/site-packages/xmip/preprocessing.py:96: UserWarning: CMIP.MIROC.MIROC6.historical.r46i1p1f1.Omon.gn.none.zos:While renaming to target `lon_bounds`, more than one candidate was found ['x_bnds', 'vertices_longitude']. Renaming x_bnds to lon_bounds. Please double check results.\n",
      "  warnings.warn(\n",
      "/srv/conda/envs/notebook/lib/python3.12/site-packages/xmip/preprocessing.py:96: UserWarning: CMIP.MIROC.MIROC6.historical.r46i1p1f1.Omon.gn.none.zos:While renaming to target `lat_bounds`, more than one candidate was found ['y_bnds', 'vertices_latitude']. Renaming y_bnds to lat_bounds. Please double check results.\n",
      "  warnings.warn(\n",
      "/srv/conda/envs/notebook/lib/python3.12/site-packages/xmip/preprocessing.py:96: UserWarning: CMIP.MRI.MRI-ESM2-0.historical.r1i1p1f1.Omon.gn.none.zos:While renaming to target `lon_bounds`, more than one candidate was found ['x_bnds', 'vertices_longitude']. Renaming x_bnds to lon_bounds. Please double check results.\n",
      "  warnings.warn(\n",
      "/srv/conda/envs/notebook/lib/python3.12/site-packages/xmip/preprocessing.py:96: UserWarning: CMIP.MRI.MRI-ESM2-0.historical.r1i1p1f1.Omon.gn.none.zos:While renaming to target `lat_bounds`, more than one candidate was found ['y_bnds', 'vertices_latitude']. Renaming y_bnds to lat_bounds. Please double check results.\n",
      "  warnings.warn(\n",
      "/srv/conda/envs/notebook/lib/python3.12/site-packages/xmip/preprocessing.py:96: UserWarning: CMIP.MIROC.MIROC6.historical.r42i1p1f1.Omon.gn.none.zos:While renaming to target `lon_bounds`, more than one candidate was found ['x_bnds', 'vertices_longitude']. Renaming x_bnds to lon_bounds. Please double check results.\n",
      "  warnings.warn(\n",
      "/srv/conda/envs/notebook/lib/python3.12/site-packages/xmip/preprocessing.py:96: UserWarning: CMIP.MIROC.MIROC6.historical.r42i1p1f1.Omon.gn.none.zos:While renaming to target `lat_bounds`, more than one candidate was found ['y_bnds', 'vertices_latitude']. Renaming y_bnds to lat_bounds. Please double check results.\n",
      "  warnings.warn(\n"
     ]
    },
    {
     "name": "stdout",
     "output_type": "stream",
     "text": [
      "Dropping duplicate timesteps for:CMIP.E3SM-Project.E3SM-1-0.historical.r5i1p1f1.Omon.zos.gr.gs://cmip6/CMIP6/CMIP/E3SM-Project/E3SM-1-0/historical/r5i1p1f1/Omon/zos/gr/v20200429/.20200429\n"
     ]
    },
    {
     "name": "stderr",
     "output_type": "stream",
     "text": [
      "/srv/conda/envs/notebook/lib/python3.12/site-packages/xmip/postprocessing.py:673: UserWarning: No matching metrics found for areacello\n",
      "  warnings.warn(f\"No matching metrics found for {mv}\")\n",
      "/srv/conda/envs/notebook/lib/python3.12/site-packages/xmip/postprocessing.py:673: UserWarning: No matching metrics found for areacello\n",
      "  warnings.warn(f\"No matching metrics found for {mv}\")\n",
      "/srv/conda/envs/notebook/lib/python3.12/site-packages/xmip/postprocessing.py:673: UserWarning: No matching metrics found for areacello\n",
      "  warnings.warn(f\"No matching metrics found for {mv}\")\n",
      "/srv/conda/envs/notebook/lib/python3.12/site-packages/xmip/postprocessing.py:673: UserWarning: No matching metrics found for areacello\n",
      "  warnings.warn(f\"No matching metrics found for {mv}\")\n",
      "/srv/conda/envs/notebook/lib/python3.12/site-packages/xmip/postprocessing.py:673: UserWarning: No matching metrics found for areacello\n",
      "  warnings.warn(f\"No matching metrics found for {mv}\")\n",
      "/srv/conda/envs/notebook/lib/python3.12/site-packages/xmip/postprocessing.py:673: UserWarning: No matching metrics found for areacello\n",
      "  warnings.warn(f\"No matching metrics found for {mv}\")\n",
      "/srv/conda/envs/notebook/lib/python3.12/site-packages/xmip/postprocessing.py:673: UserWarning: No matching metrics found for areacello\n",
      "  warnings.warn(f\"No matching metrics found for {mv}\")\n",
      "/srv/conda/envs/notebook/lib/python3.12/site-packages/xmip/postprocessing.py:673: UserWarning: No matching metrics found for areacello\n",
      "  warnings.warn(f\"No matching metrics found for {mv}\")\n",
      "/srv/conda/envs/notebook/lib/python3.12/site-packages/xmip/postprocessing.py:673: UserWarning: No matching metrics found for areacello\n",
      "  warnings.warn(f\"No matching metrics found for {mv}\")\n",
      "/srv/conda/envs/notebook/lib/python3.12/site-packages/xmip/postprocessing.py:673: UserWarning: No matching metrics found for areacello\n",
      "  warnings.warn(f\"No matching metrics found for {mv}\")\n",
      "/srv/conda/envs/notebook/lib/python3.12/site-packages/xmip/postprocessing.py:673: UserWarning: No matching metrics found for areacello\n",
      "  warnings.warn(f\"No matching metrics found for {mv}\")\n"
     ]
    },
    {
     "data": {
      "application/vnd.jupyter.widget-view+json": {
       "model_id": "f639107493b8455db0454fdc5c0091a3",
       "version_major": 2,
       "version_minor": 0
      },
      "text/plain": [
       "  0%|          | 0/330 [00:00<?, ?it/s]"
      ]
     },
     "metadata": {},
     "output_type": "display_data"
    },
    {
     "name": "stderr",
     "output_type": "stream",
     "text": [
      "/srv/conda/envs/notebook/lib/python3.12/site-packages/dask/array/core.py:4918: PerformanceWarning: Increasing number of chunks by factor of 16\n",
      "  result = blockwise(\n"
     ]
    },
    {
     "data": {
      "application/vnd.jupyter.widget-view+json": {
       "model_id": "db7b1085c8f641f1a1669b918af2bfa2",
       "version_major": 2,
       "version_minor": 0
      },
      "text/plain": [
       "  0%|          | 0/265 [00:00<?, ?it/s]"
      ]
     },
     "metadata": {},
     "output_type": "display_data"
    }
   ],
   "source": [
    "#search & load piControl dictionary of datasets\n",
    "pic_cat = search_cloud(query_var,'piControl','Omon',['source_id', 'member_id','grid_label']) #done separately because parent variant (i.e., piControl variant) is not necessarily the same as historical/SSPs variant\n",
    "pic_ddict = generate_dict_of_datasets(pic_cat,models_to_exclude,partial_combined_preprocessing)\n",
    "pic_ddict = cleanup_datasets_in_dict(pic_ddict) #do some preprocessing\n",
    "pic_ddict = drop_incomplete(pic_ddict) #remove historical+pic timeseries which are not montonically increasing or have large timegaps (based on checks in CMIP6-LEAP-feadstock)\n",
    "\n",
    "#search & load areacello dictionary of datasets\n",
    "areacello_cat = search_cloud(variable_id='areacello')\n",
    "areacello_cat = reduce_areacello_cat(areacello_cat)\n",
    "areacello_ddict = generate_dict_of_datasets(areacello_cat,models_to_exclude,partial_combined_preprocessing)\n",
    "areacello_ddict = cleanup_datasets_in_dict(areacello_ddict)\n",
    "\n",
    "#search & load hist+ssp dictionary of datasets\n",
    "ssp_cats = defaultdict(dict)\n",
    "for s,ssp in enumerate(ssps):\n",
    "    cat = search_cloud(query_var,['historical',ssp],'Omon',['source_id', 'member_id','grid_label']) #done per SSP because availability may be different\n",
    "    ssp_cats[ssp] = cat\n",
    "\n",
    "#put ssp cats together (AFAIK no other way but to copy an existing catalog and to assign the concatenation of the dataframes inside each separate catalogue as the new dataframe)   \n",
    "ssp_cats_merged = ssp_cats[ssps[0]] \n",
    "ssp_cats_merged.esmcat._df = pd.concat([v.df for k,v in ssp_cats.items()],ignore_index=True).drop_duplicates(ignore_index=True)\n",
    "ssp_cats_merged = reduce_cat_to_max_num_realizations(ssp_cats_merged) #per model, select grid and 'ipf' combination providing most realizations (needs to be applied to both SSPs together to ensure the same variants are used under both scenarios)\n",
    "\n",
    "ssp_ddicts = defaultdict(dict) #not sure when/this is needed?\n",
    "for s,ssp in enumerate(ssps):\n",
    "    ssp_cat = ssp_cats_merged.search(experiment_id=['historical',ssp],table_id='Omon',variable_id=query_var,require_all_on=['source_id', 'member_id','grid_label']) #retrieve ssp cat from reduced catalogue\n",
    "    ssp_ddict = generate_dict_of_datasets(ssp_cat,models_to_exclude,partial_combined_preprocessing)\n",
    "    ssp_ddict = cleanup_datasets_in_dict(ssp_ddict)    \n",
    "    \n",
    "    with dask.config.set(**{'array.slicing.split_large_chunks': True}): #concatenate historical and SSP\n",
    "        ssp_ddict = combine_datasets(ssp_ddict,_concat_sorted_time,match_attrs =['source_id', 'grid_label','table_id','variant_label','variable_id'],combine_func_kwargs={'join':'inner','coords':'minimal','compat':'override'})    \n",
    "    \n",
    "    ssp_ddict = drop_duplicate_timesteps(ssp_ddict) #remove overlap between historical and ssp experiments, which sometimes exists, again using 'drop_duplicate_timesteps'\n",
    "\n",
    "    #intermediate step to drop incomplete time series for hist+ssp, to-do: put in a separate function?\n",
    "    inconsistent_experiment_calendars = [] #identify if historical and SSP experiments have different calendars, which causes issues later on\n",
    "    for k,v in ssp_ddict.items():\n",
    "        try:\n",
    "            v.time[-1] - v.time[0]\n",
    "        except: #unify calendars \n",
    "            not_prolgreg = np.where(np.array([type(i) for i in v.time.values]) != cftime._cftime.DatetimeProlepticGregorian)[0] #find where calendar is not proleptic gregorian\n",
    "            converted_time = v.isel(time=not_prolgreg).convert_calendar('proleptic_gregorian',use_cftime=True).time #convert at these indices\n",
    "            newtime = v.time.values #replace old time index with new values\n",
    "            newtime[not_prolgreg] = converted_time.values\n",
    "            ssp_ddict[k]['time'] = newtime\n",
    "        \n",
    "    ssp_ddict = drop_incomplete(ssp_ddict) #remove historical+ssp timeseries which are not montonically increasing or have large timegaps (based on checks in CMIP6-LEAP-feadstock\n",
    "    ssp_ddict = match_metrics(ssp_ddict,areacello_ddict,['areacello']) #add 'areacello' metric, if possible\n",
    "\n",
    "    ssp_ddict,drift_ddict,keys_without_pic = dedrift_datasets_linearly(ssp_ddict,pic_ddict,query_var,min_pic_numYears)\n",
    "\n",
    "    ssp_ddict = subtract_ocean_awMean(ssp_ddict,query_var)\n",
    "    \n",
    "    ssp_ddicts[ssp] = ssp_ddict #add to dictionary of dictionaries of datasets"
   ]
  },
  {
   "cell_type": "markdown",
   "id": "1f929ab9-6516-4d1b-81f0-93f7eabdc26c",
   "metadata": {},
   "source": [
    "Print number of available models & members:"
   ]
  },
  {
   "cell_type": "markdown",
   "id": "9e0bce18-affa-4fbb-85f2-6801d26f32ba",
   "metadata": {},
   "source": [
    "availability = get_availability_from_ddicts(ssp_ddicts)\n",
    "for k,v in availability.items():\n",
    "    print('')\n",
    "    print(k)\n",
    "    for model in np.unique([[ds.attrs['source_id'] for ds in dataset_dict.values()] for dataset_dict in ssp_ddicts.values()]):\n",
    "        print(str(len(v[model])))"
   ]
  },
  {
   "cell_type": "markdown",
   "id": "ba18acd9-ca11-4c58-a6d0-517d89ebb4a2",
   "metadata": {},
   "source": [
    "Regrid:"
   ]
  },
  {
   "cell_type": "code",
   "execution_count": 5,
   "id": "4a4266dc-965a-403c-a114-33de57a4c0ca",
   "metadata": {},
   "outputs": [
    {
     "data": {
      "application/vnd.jupyter.widget-view+json": {
       "model_id": "f13c2f65faf444eb86bee6270b290c13",
       "version_major": 2,
       "version_minor": 0
      },
      "text/plain": [
       "  0%|          | 0/36 [00:00<?, ?it/s]"
      ]
     },
     "metadata": {},
     "output_type": "display_data"
    },
    {
     "name": "stdout",
     "output_type": "stream",
     "text": [
      "ssp585\n"
     ]
    },
    {
     "data": {
      "application/vnd.jupyter.widget-view+json": {
       "model_id": "af258937e9404120a1da956e7d775a88",
       "version_major": 2,
       "version_minor": 0
      },
      "text/plain": [
       "  0%|          | 0/255 [00:00<?, ?it/s]"
      ]
     },
     "metadata": {},
     "output_type": "display_data"
    },
    {
     "name": "stderr",
     "output_type": "stream",
     "text": [
      "/srv/conda/envs/notebook/lib/python3.12/site-packages/xarray/core/computation.py:447: PerformanceWarning: Regridding is increasing the number of chunks by a factor of 8.0, you might want to specify sizes in `output_chunks` in the regridder call. Default behaviour is to preserve the chunk sizes from the input (24, 320).\n",
      "  result_vars[name] = func(*variable_args)\n"
     ]
    }
   ],
   "source": [
    "if regrid:\n",
    "    regridder_dict = create_regridder_dict(ssp_ddicts,target_grid)   \n",
    "\n",
    "    for s,ssp in enumerate(ssps):\n",
    "        print(ssp)\n",
    "        ssp_ddict = ssp_ddicts[ssp]\n",
    "        for key,ds in tqdm(ssp_ddict.items()):\n",
    "            regridder = regridder_dict[ds.attrs['source_id']] #select regridder for this source_id\n",
    "            regridded_ds = regridder(ds, keep_attrs=True) #do the regridding\n",
    "            ssp_ddicts[ssp][key] = regridded_ds"
   ]
  },
  {
   "cell_type": "markdown",
   "id": "689107bf-4f09-406b-a890-262ca8e5780c",
   "metadata": {},
   "source": [
    "Store output:"
   ]
  },
  {
   "cell_type": "code",
   "execution_count": 6,
   "id": "68fae5c5-a6b8-4f49-8037-dd6a548f6a46",
   "metadata": {},
   "outputs": [
    {
     "name": "stdout",
     "output_type": "stream",
     "text": [
      "ssp585\n"
     ]
    },
    {
     "data": {
      "application/vnd.jupyter.widget-view+json": {
       "model_id": "2d1ebf780055425b9a93cc830e8966ab",
       "version_major": 2,
       "version_minor": 0
      },
      "text/plain": [
       "  0%|          | 0/255 [00:00<?, ?it/s]"
      ]
     },
     "metadata": {},
     "output_type": "display_data"
    }
   ],
   "source": [
    "for s,ssp in enumerate(ssps):\n",
    "    print(ssp)\n",
    "    ssp_ddict = ssp_ddicts[ssp]\n",
    "    for key,ds in tqdm(ssp_ddict.items()):\n",
    "        \n",
    "        ds = ds.sel(time=slice(output_period[0],output_period[1])) #select output period\n",
    "        ds = ds[[query_var]] #get rid of 'area' that is a variable in some datasets\n",
    "        ds_name = key+'.hist_'+ssp+'.'+str(ds.time[0].dt.year.values)+'-'+str(ds.time[-1].dt.year.values) #generate file name\n",
    "\n",
    "        output_fn = os.path.join(output_path,query_var+['','_'+target_grid.attrs['name']][regrid],ds.source_id,ds_name)\n",
    "        \n",
    "        if overwrite_existing or not fs.exists(output_fn):\n",
    "            #store:\n",
    "            try:\n",
    "                ds.to_zarr(output_fn,mode='w') #fails if chunks are not uniform due to time concatenation\n",
    "            except:\n",
    "                ds[query_var] = ds[query_var].chunk({'time':'auto'})\n",
    "                ds.to_zarr(output_fn,mode='w')"
   ]
  },
  {
   "cell_type": "code",
   "execution_count": 7,
   "id": "a6679b81-449a-4f98-af54-6ef5d662345f",
   "metadata": {},
   "outputs": [
    {
     "data": {
      "text/plain": [
       "['leap-persistent/timh37/CMIP6/zos_1x1/ACCESS-CM2/ACCESS-CM2.gn.Omon.r10i1p1f1.zos.hist_ssp245.1950-2100',\n",
       " 'leap-persistent/timh37/CMIP6/zos_1x1/ACCESS-CM2/ACCESS-CM2.gn.Omon.r10i1p1f1.zos.hist_ssp585.1950-2100',\n",
       " 'leap-persistent/timh37/CMIP6/zos_1x1/ACCESS-CM2/ACCESS-CM2.gn.Omon.r1i1p1f1.zos.hist_ssp245.1950-2100',\n",
       " 'leap-persistent/timh37/CMIP6/zos_1x1/ACCESS-CM2/ACCESS-CM2.gn.Omon.r1i1p1f1.zos.hist_ssp585.1950-2300',\n",
       " 'leap-persistent/timh37/CMIP6/zos_1x1/ACCESS-CM2/ACCESS-CM2.gn.Omon.r2i1p1f1.zos.hist_ssp245.1950-2100',\n",
       " 'leap-persistent/timh37/CMIP6/zos_1x1/ACCESS-CM2/ACCESS-CM2.gn.Omon.r2i1p1f1.zos.hist_ssp585.1950-2100',\n",
       " 'leap-persistent/timh37/CMIP6/zos_1x1/ACCESS-CM2/ACCESS-CM2.gn.Omon.r3i1p1f1.zos.hist_ssp245.1950-2100',\n",
       " 'leap-persistent/timh37/CMIP6/zos_1x1/ACCESS-CM2/ACCESS-CM2.gn.Omon.r3i1p1f1.zos.hist_ssp585.1950-2100',\n",
       " 'leap-persistent/timh37/CMIP6/zos_1x1/ACCESS-CM2/ACCESS-CM2.gn.Omon.r4i1p1f1.zos.hist_ssp245.1950-2100',\n",
       " 'leap-persistent/timh37/CMIP6/zos_1x1/ACCESS-CM2/ACCESS-CM2.gn.Omon.r4i1p1f1.zos.hist_ssp585.1950-2100',\n",
       " 'leap-persistent/timh37/CMIP6/zos_1x1/ACCESS-CM2/ACCESS-CM2.gn.Omon.r5i1p1f1.zos.hist_ssp245.1950-2100',\n",
       " 'leap-persistent/timh37/CMIP6/zos_1x1/ACCESS-CM2/ACCESS-CM2.gn.Omon.r5i1p1f1.zos.hist_ssp585.1950-2100',\n",
       " 'leap-persistent/timh37/CMIP6/zos_1x1/ACCESS-CM2/ACCESS-CM2.gn.Omon.r6i1p1f1.zos.hist_ssp245.1950-2100',\n",
       " 'leap-persistent/timh37/CMIP6/zos_1x1/ACCESS-CM2/ACCESS-CM2.gn.Omon.r6i1p1f1.zos.hist_ssp585.1950-2100',\n",
       " 'leap-persistent/timh37/CMIP6/zos_1x1/ACCESS-CM2/ACCESS-CM2.gn.Omon.r7i1p1f1.zos.hist_ssp245.1950-2100',\n",
       " 'leap-persistent/timh37/CMIP6/zos_1x1/ACCESS-CM2/ACCESS-CM2.gn.Omon.r7i1p1f1.zos.hist_ssp585.1950-2100',\n",
       " 'leap-persistent/timh37/CMIP6/zos_1x1/ACCESS-CM2/ACCESS-CM2.gn.Omon.r8i1p1f1.zos.hist_ssp245.1950-2100',\n",
       " 'leap-persistent/timh37/CMIP6/zos_1x1/ACCESS-CM2/ACCESS-CM2.gn.Omon.r8i1p1f1.zos.hist_ssp585.1950-2100',\n",
       " 'leap-persistent/timh37/CMIP6/zos_1x1/ACCESS-CM2/ACCESS-CM2.gn.Omon.r9i1p1f1.zos.hist_ssp245.1950-2100',\n",
       " 'leap-persistent/timh37/CMIP6/zos_1x1/ACCESS-CM2/ACCESS-CM2.gn.Omon.r9i1p1f1.zos.hist_ssp585.1950-2100']"
      ]
     },
     "execution_count": 7,
     "metadata": {},
     "output_type": "execute_result"
    }
   ],
   "source": [
    "fs.ls(os.path.join(output_path,'zos_1x1/ACCESS-CM2'))"
   ]
  },
  {
   "cell_type": "code",
   "execution_count": null,
   "id": "c00ac1c3-f79f-42a7-b456-614270d4fe45",
   "metadata": {},
   "outputs": [],
   "source": []
  }
 ],
 "metadata": {
  "kernelspec": {
   "display_name": "Python 3 (ipykernel)",
   "language": "python",
   "name": "python3"
  },
  "language_info": {
   "codemirror_mode": {
    "name": "ipython",
    "version": 3
   },
   "file_extension": ".py",
   "mimetype": "text/x-python",
   "name": "python",
   "nbconvert_exporter": "python",
   "pygments_lexer": "ipython3",
   "version": "3.12.7"
  }
 },
 "nbformat": 4,
 "nbformat_minor": 5
}
